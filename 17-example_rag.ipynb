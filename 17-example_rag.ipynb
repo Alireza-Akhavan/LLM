{
 "cells": [
  {
   "cell_type": "code",
   "execution_count": null,
   "metadata": {},
   "outputs": [
    {
     "name": "stdout",
     "output_type": "stream",
     "text": [
      "Looking in indexes: https://oss.roshan-ai.ir/repository/pypi-group/simple\n",
      "Requirement already satisfied: transformers in /home/roshan/.virtualenvs/llm/lib/python3.10/site-packages (4.51.1)\n",
      "Requirement already satisfied: filelock in /home/roshan/.virtualenvs/llm/lib/python3.10/site-packages (from transformers) (3.16.1)\n",
      "Requirement already satisfied: huggingface-hub<1.0,>=0.30.0 in /home/roshan/.virtualenvs/llm/lib/python3.10/site-packages (from transformers) (0.30.2)\n",
      "Requirement already satisfied: numpy>=1.17 in /home/roshan/.virtualenvs/llm/lib/python3.10/site-packages (from transformers) (1.26.4)\n",
      "Requirement already satisfied: packaging>=20.0 in /home/roshan/.virtualenvs/llm/lib/python3.10/site-packages (from transformers) (23.2)\n",
      "Requirement already satisfied: pyyaml>=5.1 in /home/roshan/.virtualenvs/llm/lib/python3.10/site-packages (from transformers) (6.0.2)\n",
      "Requirement already satisfied: regex!=2019.12.17 in /home/roshan/.virtualenvs/llm/lib/python3.10/site-packages (from transformers) (2024.9.11)\n",
      "Requirement already satisfied: requests in /home/roshan/.virtualenvs/llm/lib/python3.10/site-packages (from transformers) (2.32.3)\n",
      "Requirement already satisfied: tokenizers<0.22,>=0.21 in /home/roshan/.virtualenvs/llm/lib/python3.10/site-packages (from transformers) (0.21.1)\n",
      "Requirement already satisfied: safetensors>=0.4.3 in /home/roshan/.virtualenvs/llm/lib/python3.10/site-packages (from transformers) (0.4.5)\n",
      "Requirement already satisfied: tqdm>=4.27 in /home/roshan/.virtualenvs/llm/lib/python3.10/site-packages (from transformers) (4.66.5)\n",
      "Requirement already satisfied: fsspec>=2023.5.0 in /home/roshan/.virtualenvs/llm/lib/python3.10/site-packages (from huggingface-hub<1.0,>=0.30.0->transformers) (2024.6.1)\n",
      "Requirement already satisfied: typing-extensions>=3.7.4.3 in /home/roshan/.virtualenvs/llm/lib/python3.10/site-packages (from huggingface-hub<1.0,>=0.30.0->transformers) (4.12.2)\n",
      "Requirement already satisfied: charset-normalizer<4,>=2 in /home/roshan/.virtualenvs/llm/lib/python3.10/site-packages (from requests->transformers) (3.3.2)\n",
      "Requirement already satisfied: idna<4,>=2.5 in /home/roshan/.virtualenvs/llm/lib/python3.10/site-packages (from requests->transformers) (3.10)\n",
      "Requirement already satisfied: urllib3<3,>=1.21.1 in /home/roshan/.virtualenvs/llm/lib/python3.10/site-packages (from requests->transformers) (2.2.3)\n",
      "Requirement already satisfied: certifi>=2017.4.17 in /home/roshan/.virtualenvs/llm/lib/python3.10/site-packages (from requests->transformers) (2024.8.30)\n",
      "Looking in indexes: https://oss.roshan-ai.ir/repository/pypi-group/simple\n",
      "Requirement already satisfied: langchain[docarray] in /home/roshan/.virtualenvs/llm/lib/python3.10/site-packages (0.2.1)\n",
      "Requirement already satisfied: PyYAML>=5.3 in /home/roshan/.virtualenvs/llm/lib/python3.10/site-packages (from langchain[docarray]) (6.0.2)\n",
      "Requirement already satisfied: SQLAlchemy<3,>=1.4 in /home/roshan/.virtualenvs/llm/lib/python3.10/site-packages (from langchain[docarray]) (2.0.35)\n",
      "Requirement already satisfied: aiohttp<4.0.0,>=3.8.3 in /home/roshan/.virtualenvs/llm/lib/python3.10/site-packages (from langchain[docarray]) (3.11.16)\n",
      "Requirement already satisfied: async-timeout<5.0.0,>=4.0.0 in /home/roshan/.virtualenvs/llm/lib/python3.10/site-packages (from langchain[docarray]) (4.0.3)\n",
      "Requirement already satisfied: langchain-core<0.3.0,>=0.2.0 in /home/roshan/.virtualenvs/llm/lib/python3.10/site-packages (from langchain[docarray]) (0.2.1)\n",
      "Requirement already satisfied: langchain-text-splitters<0.3.0,>=0.2.0 in /home/roshan/.virtualenvs/llm/lib/python3.10/site-packages (from langchain[docarray]) (0.2.0)\n",
      "Requirement already satisfied: langsmith<0.2.0,>=0.1.17 in /home/roshan/.virtualenvs/llm/lib/python3.10/site-packages (from langchain[docarray]) (0.1.63)\n",
      "Requirement already satisfied: numpy<2,>=1 in /home/roshan/.virtualenvs/llm/lib/python3.10/site-packages (from langchain[docarray]) (1.26.4)\n",
      "Requirement already satisfied: pydantic<3,>=1 in /home/roshan/.virtualenvs/llm/lib/python3.10/site-packages (from langchain[docarray]) (2.9.2)\n",
      "Requirement already satisfied: requests<3,>=2 in /home/roshan/.virtualenvs/llm/lib/python3.10/site-packages (from langchain[docarray]) (2.32.3)\n",
      "Requirement already satisfied: tenacity<9.0.0,>=8.1.0 in /home/roshan/.virtualenvs/llm/lib/python3.10/site-packages (from langchain[docarray]) (8.5.0)\n",
      "Collecting docarray<0.33.0,>=0.32.0 (from docarray[hnswlib]<0.33.0,>=0.32.0; extra == \"docarray\"->langchain[docarray])\n",
      "  Using cached https://oss.roshan-ai.ir/repository/pypi-group/packages/docarray/0.32.1/docarray-0.32.1-py3-none-any.whl (215 kB)\n",
      "Requirement already satisfied: aiohappyeyeballs>=2.3.0 in /home/roshan/.virtualenvs/llm/lib/python3.10/site-packages (from aiohttp<4.0.0,>=3.8.3->langchain[docarray]) (2.4.3)\n",
      "Requirement already satisfied: aiosignal>=1.1.2 in /home/roshan/.virtualenvs/llm/lib/python3.10/site-packages (from aiohttp<4.0.0,>=3.8.3->langchain[docarray]) (1.3.1)\n",
      "Requirement already satisfied: attrs>=17.3.0 in /home/roshan/.virtualenvs/llm/lib/python3.10/site-packages (from aiohttp<4.0.0,>=3.8.3->langchain[docarray]) (24.2.0)\n",
      "Requirement already satisfied: frozenlist>=1.1.1 in /home/roshan/.virtualenvs/llm/lib/python3.10/site-packages (from aiohttp<4.0.0,>=3.8.3->langchain[docarray]) (1.4.1)\n",
      "Requirement already satisfied: multidict<7.0,>=4.5 in /home/roshan/.virtualenvs/llm/lib/python3.10/site-packages (from aiohttp<4.0.0,>=3.8.3->langchain[docarray]) (6.1.0)\n",
      "Requirement already satisfied: propcache>=0.2.0 in /home/roshan/.virtualenvs/llm/lib/python3.10/site-packages (from aiohttp<4.0.0,>=3.8.3->langchain[docarray]) (0.3.1)\n",
      "Requirement already satisfied: yarl<2.0,>=1.17.0 in /home/roshan/.virtualenvs/llm/lib/python3.10/site-packages (from aiohttp<4.0.0,>=3.8.3->langchain[docarray]) (1.19.0)\n",
      "Requirement already satisfied: orjson>=3.8.2 in /home/roshan/.virtualenvs/llm/lib/python3.10/site-packages (from docarray<0.33.0,>=0.32.0->docarray[hnswlib]<0.33.0,>=0.32.0; extra == \"docarray\"->langchain[docarray]) (3.10.7)\n",
      "Requirement already satisfied: rich>=13.1.0 in /home/roshan/.virtualenvs/llm/lib/python3.10/site-packages (from docarray<0.33.0,>=0.32.0->docarray[hnswlib]<0.33.0,>=0.32.0; extra == \"docarray\"->langchain[docarray]) (14.0.0)\n",
      "Requirement already satisfied: types-requests>=2.28.11.6 in /home/roshan/.virtualenvs/llm/lib/python3.10/site-packages (from docarray<0.33.0,>=0.32.0->docarray[hnswlib]<0.33.0,>=0.32.0; extra == \"docarray\"->langchain[docarray]) (2.32.0.20250306)\n",
      "Requirement already satisfied: typing-inspect>=0.8.0 in /home/roshan/.virtualenvs/llm/lib/python3.10/site-packages (from docarray<0.33.0,>=0.32.0->docarray[hnswlib]<0.33.0,>=0.32.0; extra == \"docarray\"->langchain[docarray]) (0.9.0)\n",
      "Requirement already satisfied: hnswlib>=0.6.2 in /home/roshan/.virtualenvs/llm/lib/python3.10/site-packages (from docarray[hnswlib]<0.33.0,>=0.32.0; extra == \"docarray\"->langchain[docarray]) (0.8.0)\n",
      "Requirement already satisfied: protobuf>=3.19.0 in /home/roshan/.virtualenvs/llm/lib/python3.10/site-packages (from docarray[hnswlib]<0.33.0,>=0.32.0; extra == \"docarray\"->langchain[docarray]) (5.28.2)\n",
      "Requirement already satisfied: jsonpatch<2.0,>=1.33 in /home/roshan/.virtualenvs/llm/lib/python3.10/site-packages (from langchain-core<0.3.0,>=0.2.0->langchain[docarray]) (1.33)\n",
      "Requirement already satisfied: packaging<24.0,>=23.2 in /home/roshan/.virtualenvs/llm/lib/python3.10/site-packages (from langchain-core<0.3.0,>=0.2.0->langchain[docarray]) (23.2)\n",
      "Requirement already satisfied: annotated-types>=0.6.0 in /home/roshan/.virtualenvs/llm/lib/python3.10/site-packages (from pydantic<3,>=1->langchain[docarray]) (0.7.0)\n",
      "Requirement already satisfied: pydantic-core==2.23.4 in /home/roshan/.virtualenvs/llm/lib/python3.10/site-packages (from pydantic<3,>=1->langchain[docarray]) (2.23.4)\n",
      "Requirement already satisfied: typing-extensions>=4.6.1 in /home/roshan/.virtualenvs/llm/lib/python3.10/site-packages (from pydantic<3,>=1->langchain[docarray]) (4.12.2)\n",
      "Requirement already satisfied: charset-normalizer<4,>=2 in /home/roshan/.virtualenvs/llm/lib/python3.10/site-packages (from requests<3,>=2->langchain[docarray]) (3.3.2)\n",
      "Requirement already satisfied: idna<4,>=2.5 in /home/roshan/.virtualenvs/llm/lib/python3.10/site-packages (from requests<3,>=2->langchain[docarray]) (3.10)\n",
      "Requirement already satisfied: urllib3<3,>=1.21.1 in /home/roshan/.virtualenvs/llm/lib/python3.10/site-packages (from requests<3,>=2->langchain[docarray]) (2.2.3)\n",
      "Requirement already satisfied: certifi>=2017.4.17 in /home/roshan/.virtualenvs/llm/lib/python3.10/site-packages (from requests<3,>=2->langchain[docarray]) (2024.8.30)\n",
      "Requirement already satisfied: greenlet!=0.4.17 in /home/roshan/.virtualenvs/llm/lib/python3.10/site-packages (from SQLAlchemy<3,>=1.4->langchain[docarray]) (3.1.1)\n",
      "Requirement already satisfied: jsonpointer>=1.9 in /home/roshan/.virtualenvs/llm/lib/python3.10/site-packages (from jsonpatch<2.0,>=1.33->langchain-core<0.3.0,>=0.2.0->langchain[docarray]) (3.0.0)\n",
      "Requirement already satisfied: markdown-it-py>=2.2.0 in /home/roshan/.virtualenvs/llm/lib/python3.10/site-packages (from rich>=13.1.0->docarray<0.33.0,>=0.32.0->docarray[hnswlib]<0.33.0,>=0.32.0; extra == \"docarray\"->langchain[docarray]) (3.0.0)\n",
      "Requirement already satisfied: pygments<3.0.0,>=2.13.0 in /home/roshan/.virtualenvs/llm/lib/python3.10/site-packages (from rich>=13.1.0->docarray<0.33.0,>=0.32.0->docarray[hnswlib]<0.33.0,>=0.32.0; extra == \"docarray\"->langchain[docarray]) (2.18.0)\n",
      "Requirement already satisfied: mypy-extensions>=0.3.0 in /home/roshan/.virtualenvs/llm/lib/python3.10/site-packages (from typing-inspect>=0.8.0->docarray<0.33.0,>=0.32.0->docarray[hnswlib]<0.33.0,>=0.32.0; extra == \"docarray\"->langchain[docarray]) (1.0.0)\n",
      "Requirement already satisfied: mdurl~=0.1 in /home/roshan/.virtualenvs/llm/lib/python3.10/site-packages (from markdown-it-py>=2.2.0->rich>=13.1.0->docarray<0.33.0,>=0.32.0->docarray[hnswlib]<0.33.0,>=0.32.0; extra == \"docarray\"->langchain[docarray]) (0.1.2)\n",
      "Installing collected packages: docarray\n",
      "  Attempting uninstall: docarray\n",
      "    Found existing installation: docarray 0.40.0\n",
      "    Uninstalling docarray-0.40.0:\n",
      "      Successfully uninstalled docarray-0.40.0\n",
      "Successfully installed docarray-0.32.1\n",
      "Looking in indexes: https://oss.roshan-ai.ir/repository/pypi-group/simple\n",
      "Requirement already satisfied: docarray in /home/roshan/.virtualenvs/llm/lib/python3.10/site-packages (0.32.1)\n",
      "Requirement already satisfied: numpy>=1.17.3 in /home/roshan/.virtualenvs/llm/lib/python3.10/site-packages (from docarray) (1.26.4)\n",
      "Requirement already satisfied: orjson>=3.8.2 in /home/roshan/.virtualenvs/llm/lib/python3.10/site-packages (from docarray) (3.10.7)\n",
      "Requirement already satisfied: pydantic>=1.10.2 in /home/roshan/.virtualenvs/llm/lib/python3.10/site-packages (from docarray) (2.9.2)\n",
      "Requirement already satisfied: rich>=13.1.0 in /home/roshan/.virtualenvs/llm/lib/python3.10/site-packages (from docarray) (14.0.0)\n",
      "Requirement already satisfied: types-requests>=2.28.11.6 in /home/roshan/.virtualenvs/llm/lib/python3.10/site-packages (from docarray) (2.32.0.20250306)\n",
      "Requirement already satisfied: typing-inspect>=0.8.0 in /home/roshan/.virtualenvs/llm/lib/python3.10/site-packages (from docarray) (0.9.0)\n",
      "Requirement already satisfied: annotated-types>=0.6.0 in /home/roshan/.virtualenvs/llm/lib/python3.10/site-packages (from pydantic>=1.10.2->docarray) (0.7.0)\n",
      "Requirement already satisfied: pydantic-core==2.23.4 in /home/roshan/.virtualenvs/llm/lib/python3.10/site-packages (from pydantic>=1.10.2->docarray) (2.23.4)\n",
      "Requirement already satisfied: typing-extensions>=4.6.1 in /home/roshan/.virtualenvs/llm/lib/python3.10/site-packages (from pydantic>=1.10.2->docarray) (4.12.2)\n",
      "Requirement already satisfied: markdown-it-py>=2.2.0 in /home/roshan/.virtualenvs/llm/lib/python3.10/site-packages (from rich>=13.1.0->docarray) (3.0.0)\n",
      "Requirement already satisfied: pygments<3.0.0,>=2.13.0 in /home/roshan/.virtualenvs/llm/lib/python3.10/site-packages (from rich>=13.1.0->docarray) (2.18.0)\n",
      "Requirement already satisfied: urllib3>=2 in /home/roshan/.virtualenvs/llm/lib/python3.10/site-packages (from types-requests>=2.28.11.6->docarray) (2.2.3)\n",
      "Requirement already satisfied: mypy-extensions>=0.3.0 in /home/roshan/.virtualenvs/llm/lib/python3.10/site-packages (from typing-inspect>=0.8.0->docarray) (1.0.0)\n",
      "Requirement already satisfied: mdurl~=0.1 in /home/roshan/.virtualenvs/llm/lib/python3.10/site-packages (from markdown-it-py>=2.2.0->rich>=13.1.0->docarray) (0.1.2)\n",
      "Fatal Python error: init_import_site: Failed to import the site module\n",
      "Python runtime state: initialized\n",
      "Traceback (most recent call last):\n",
      "  File \"/usr/lib/python3.10/site.py\", line 79, in <module>\n",
      "    import os\n",
      "  File \"/usr/lib/python3.10/os.py\", line 29, in <module>\n",
      "    from _collections_abc import _check_methods\n",
      "  File \"/usr/lib/python3.10/_collections_abc.py\", line 306, in <module>\n",
      "    class Reversible(Iterable):\n",
      "  File \"/usr/lib/python3.10/abc.py\", line 106, in __new__\n",
      "    cls = super().__new__(mcls, name, bases, namespace, **kwargs)\n",
      "KeyboardInterrupt\n",
      "^C\n"
     ]
    }
   ],
   "source": [
    "# !pip3 install langchain\n",
    "!pip install transformers\n",
    "!pip install langchain[docarray]\n",
    "!pip install docarray\n",
    "!pip install pypdf\n",
    "!pip install langchain_huggingface\n"
   ]
  },
  {
   "cell_type": "code",
   "execution_count": null,
   "metadata": {},
   "outputs": [
    {
     "name": "stderr",
     "output_type": "stream",
     "text": [
      "The `load_in_4bit` and `load_in_8bit` arguments are deprecated and will be removed in the future versions. Please, pass a `BitsAndBytesConfig` object in `quantization_config` argument instead.\n"
     ]
    },
    {
     "data": {
      "application/vnd.jupyter.widget-view+json": {
       "model_id": "4c0f6fa3a2fd4b77b68362e4ecb30700",
       "version_major": 2,
       "version_minor": 0
      },
      "text/plain": [
       "Loading checkpoint shards:   0%|          | 0/4 [00:00<?, ?it/s]"
      ]
     },
     "metadata": {},
     "output_type": "display_data"
    },
    {
     "name": "stderr",
     "output_type": "stream",
     "text": [
      "Setting the `device` argument to None from -1 to avoid the error caused by attempting to move the model that was already loaded on the GPU using the Accelerate module to the same or another device.\n",
      "Device set to use cuda:0\n",
      "No sentence-transformers model found with name sbunlp/fabert. Creating a new one with mean pooling.\n",
      "Some weights of BertModel were not initialized from the model checkpoint at sbunlp/fabert and are newly initialized: ['pooler.dense.bias', 'pooler.dense.weight']\n",
      "You should probably TRAIN this model on a down-stream task to be able to use it for predictions and inference.\n"
     ]
    }
   ],
   "source": [
    "from langchain_huggingface import HuggingFaceEmbeddings\n",
    "from langchain_huggingface.llms import HuggingFacePipeline\n",
    "\n",
    "model_name = \"unsloth/gemma-2-9b-it\"\n",
    "model = HuggingFacePipeline.from_model_id(\n",
    "    model_id=model_name,\n",
    "    task=\"text-generation\",\n",
    "    device_map='cuda:0',\n",
    "    model_kwargs={\"load_in_4bit\": True},\n",
    "    pipeline_kwargs={\"max_new_tokens\": 256,},\n",
    ")\n",
    "embedding_name = 'sbunlp/fabert'\n",
    "embeddings = HuggingFaceEmbeddings(\n",
    "                model_name=embedding_name,\n",
    "                # model_kwargs={\"trust_remote_code\": True},\n",
    "            )\n"
   ]
  },
  {
   "cell_type": "code",
   "execution_count": 2,
   "metadata": {},
   "outputs": [],
   "source": [
    "from transformers import AutoTokenizer\n",
    "\n",
    "tokenizer = AutoTokenizer.from_pretrained(model_name)\n",
    "\n",
    "def apply_chat_template_and_response(prompt):\n",
    "    messages = [\n",
    "    {'role': 'user', 'content': prompt}\n",
    "    ]    \n",
    "\n",
    "    text = tokenizer.apply_chat_template(\n",
    "        messages,\n",
    "        tokenize=False,\n",
    "        add_generation_prompt=True,\n",
    "        enable_thinking=False\n",
    "    )\n",
    "\n",
    "    return model.invoke(text).replace(text, '')"
   ]
  },
  {
   "cell_type": "code",
   "execution_count": 3,
   "metadata": {},
   "outputs": [
    {
     "name": "stderr",
     "output_type": "stream",
     "text": [
      "/home/roshan/.virtualenvs/llm/lib/python3.10/site-packages/bitsandbytes/nn/modules.py:426: UserWarning: Input type into Linear4bit is torch.float16, but bnb_4bit_compute_dtype=torch.float32 (default). This will lead to slow inference or training speed.\n",
      "  warnings.warn(\n"
     ]
    },
    {
     "name": "stdout",
     "output_type": "stream",
     "text": [
      "من Gemma هستم، یک مدل زبان بزرگ که توسط Google DeepMind آموزش دیده ام.\n",
      "\n"
     ]
    }
   ],
   "source": [
    "print(apply_chat_template_and_response(\"اسمت چیه؟\"))"
   ]
  },
  {
   "cell_type": "code",
   "execution_count": 4,
   "metadata": {},
   "outputs": [
    {
     "name": "stdout",
     "output_type": "stream",
     "text": [
      "\"هر کسی می‌تواند پرواز کند، اما فقط کسانی که دست از رویاها برنمی‌دارند.\"\n",
      "\n",
      "**Translation:** \"Everyone can fly, but only those who never give up on their dreams.\" \n",
      "\n",
      "\n",
      "This quote emphasizes the importance of perseverance and believing in oneself to achieve one's aspirations.\n",
      "\n"
     ]
    }
   ],
   "source": [
    "from langchain_core.output_parsers import StrOutputParser\n",
    "\n",
    "parser = StrOutputParser()\n",
    "response_from_model = apply_chat_template_and_response(\"Give me an inspirational quote in persian\")\n",
    "parsed_response = parser.parse(response_from_model)\n",
    "print(parsed_response)"
   ]
  },
  {
   "cell_type": "code",
   "execution_count": 5,
   "metadata": {},
   "outputs": [
    {
     "data": {
      "text/plain": [
       "'\\nYou are a helpful and knowledgeable AI assistant. Use only the information retrieved from the documents to answer the user\\'s question in Persian (Farsi). If the answer is not found in the retrieved context, respond with: \"متاسفانه اطلاعاتی در این مورد ندارم.\" Do not use your own knowledge beyond the provided context. Be accurate, clear, and polite. Never mention the documents or the retrieval process in your response. Just respond naturally in Persian.\\nContext: Here is some context\\n\\nQuestion: Here is a question\\n\\nAnswer:\\n\\n'"
      ]
     },
     "execution_count": 5,
     "metadata": {},
     "output_type": "execute_result"
    }
   ],
   "source": [
    "from langchain.prompts import PromptTemplate\n",
    "\n",
    "template = \"\"\"\n",
    "You are a helpful and knowledgeable AI assistant. Use only the information retrieved from the documents to answer the user's question in Persian (Farsi). If the answer is not found in the retrieved context, respond with: \"متاسفانه اطلاعاتی در این مورد ندارم.\" Do not use your own knowledge beyond the provided context. Be accurate, clear, and polite. Never mention the documents or the retrieval process in your response. Just respond naturally in Persian.\n",
    "Context: {context}\n",
    "\n",
    "Question: {question}\n",
    "\n",
    "Answer:\n",
    "\n",
    "\"\"\"\n",
    "\n",
    "prompt = PromptTemplate.from_template(template)\n",
    "prompt.format(context=\"Here is some context\", question=\"Here is a question\")"
   ]
  },
  {
   "cell_type": "code",
   "execution_count": 6,
   "metadata": {},
   "outputs": [
    {
     "name": "stdout",
     "output_type": "stream",
     "text": [
      "علیرضا \n",
      "\n"
     ]
    }
   ],
   "source": [
    "context = \"من علیرضا هستم و تهران زندگی میکنم.\"\n",
    "formatted_prompt = prompt.format(context = context, question=\"اسم من چیه؟\")\n",
    "response_from_model = apply_chat_template_and_response(formatted_prompt)\n",
    "parsed_response = parser.parse(response_from_model)\n",
    "print(parsed_response.replace(formatted_prompt, \"\"))"
   ]
  },
  {
   "cell_type": "code",
   "execution_count": 7,
   "metadata": {},
   "outputs": [
    {
     "name": "stdout",
     "output_type": "stream",
     "text": [
      "متاسفانه اطلاعاتی در این مورد ندارم.\n",
      "\n",
      "\n"
     ]
    }
   ],
   "source": [
    "formatted_prompt = prompt.format(context=context, question=\"من چند سالمه؟\")\n",
    "response_from_model = model.invoke(formatted_prompt)\n",
    "parsed_response = parser.parse(response_from_model)\n",
    "print(parsed_response.replace(formatted_prompt, \"\"))"
   ]
  },
  {
   "cell_type": "code",
   "execution_count": null,
   "metadata": {},
   "outputs": [
    {
     "name": "stderr",
     "output_type": "stream",
     "text": [
      "Ignoring wrong pointing object 105 0 (offset 0)\n"
     ]
    },
    {
     "data": {
      "text/plain": [
       "[Document(page_content='ﺑﺎﺳﻣﮫ ﺗﻌﺎﻟﯽ    اﺻﻼح ﻧﺎﻣﮫ ﺷﯾوه اﺟراﯾﯽ  ﻧﺣوه  اﯾﺟﺎد  و  ﺗرﻣﯾم  ﺳﺎﺑﻘﮫ  ﺗﺣﺻﯾﻠﯽ  ھﺎی آزﻣون  ﻧﮭﺎﯾﯽ  دوره  دوم  ﻣﺗوﺳطﮫ  ﻣﺻوب  \\nﭘﻧﺟﺎه وھﻔﺗﻣﯾن)\\n57\\n(\\n \\nﺟﻠﺳﮫ\\n \\nﮐﻣﯾﺳﯾون\\n \\nﻣﻌﯾن\\n \\nﺷورای ﻋﺎﻟﯽ\\n \\nآﻣوزش\\n \\nو\\n \\nﭘرورش\\n \\nﺗﺎرﯾﺦ\\n \\n27/9/1402\\n  ﺑﮫ اﺳﺗﻧﺎد  ﻣﺻوﺑﮫ  ﺟﻠﺳﮫ  1053  ﺗﺎرﯾﺦ  04/12/1403  ﻣوﺿوع  ﻋﻧﺎوﯾن  دروس  آزﻣون  ﻧﮭﺎﯾﯽ  دوره  دوم  \\nﻣﺗوﺳطﮫ\\n \\nو\\n \\nﭼﮕوﻧﮕﯽ\\n \\nﺗرﻣﯾم\\n \\nﺳﺎﺑﻘﮫ\\n \\nﺗﺣﺻﯾﻠﯽ\\n \\nﺳواﺑق\\n \\nﺗﺣﺻﯾﻠﯽ،\\n \\nﺷﯾوه ﻧﺎﻣﮫ\\n \\nاﺟراﯾﯽ\\n \\nﻧﺣوه\\n \\nاﯾﺟﺎد\\n \\nﺳﺎﺑﻘﮫ\\n \\nﺗﺣﺻﯾﻠﯽ\\n \\nو\\n \\nﺗرﻣﯾم\\n \\nﺳﺎﺑﻘﮫ\\n \\nﺗﺣﺻﯾﻠﯽ\\n \\nآزﻣون ھﺎی\\n \\nﻧﮭﺎﯾﯽ\\n \\nدوره\\n \\nدوم\\n \\nﻣﺗوﺳطﮫ)اﺻﻼﺣﯾﮫ\\n \\nﺷﯾوه ﻧﺎﻣﮫ\\n \\nﻣﺻوب\\n \\nﭘﻧﺟﺎه\\n \\nو\\n \\nھﻔﺗﻣﯾن\\n \\nﺟﻠﺳﮫ\\n \\nﮐﻣﯾﺳﯾون\\n \\nﻣﻌﯾن\\n \\nﺷورای\\n \\nﻋﺎﻟﯽ\\n \\nآﻣوزش\\n \\nو\\n \\nﭘرورش\\n \\nﺗﺎرﯾﺦ\\n \\n27/09/1402\\n(و\\n \\nﻣﺻوﺑﮫ\\n \\nﺟﻠﺳﮫ\\n \\n915\\n \\nﺷورای\\n \\nﻋﺎﻟﯽ\\n \\nاﻧﻘﻼب\\n \\nﻓرھﻧﮕﯽ\\n \\nﺗﺎرﯾﺦ.......\\n \\nﺑﮫ\\n \\nﺷرح\\n \\nزﯾر\\n \\nﺑﮫ\\n \\nﺗﺻوﯾب\\n \\nرﺳﯾد.\\n ﺗﻌﺎرﯾف(اﻟف ﺳﺎﺑﻘﮫ ﺗﺣﺻﯾﻠﯽ:  ﻣطﺎﺑق  ﻣﺎده١  ﻣﺻوﺑﮫ  ﺟﻠﺳﮫ  ٣۴٨  ﺗﺎرﯾﺦ  15/04/1400  ﺷورای  ﻋﺎﻟﯽ  اﻧﻘﻼب  ﻓرھﻧﮕﯽ،  \\nﺳﺎﺑﻘﮫ\\n \\nﺗﺣﺻﯾﻠﯽ\\n \\nﻋﺑﺎرت\\n \\nاﺳت\\n \\nاز؛\\n \\nﻧﻣرات\\n \\nدروس\\n \\nﻋﻣوﻣﯽ\\n \\nو\\n \\nﺗﺧﺻﺻﯽ\\n \\nدوره\\n \\nدوم\\n \\nﻣﺗوﺳطﮫ\\n \\nدر\\n \\nﻧظﺎم\\n \\nآﻣوزﺷﯽ\\n \\n3\\n-\\n3\\n-\\n3\\n-\\n3\\n \\nو\\n \\nدﯾﭘﻠم\\n \\nو\\n \\nﭘﯾش داﻧﺷﮕﺎھﯽ\\n \\nدر\\n \\nﻧظﺎم\\n \\nآﻣوزﺷﯽ\\n \\nﻗﺑﻠﯽ\\n \\nھر\\n \\nرﺷﺗﮫ\\n \\nﺗﺣﺻﯾﻠﯽ\\n \\nدوره\\n \\nﻣﺗوﺳطﮫ\\n \\nاﺳت\\n \\nﮐﮫ\\n \\nاﻣﺗﺣﺎﻧﺎت)آزﻣون ھﺎی(\\n \\nآن\\n \\nﻣطﺎﺑق\\n \\nاﺻول\\n \\nﺳﻧﺟش\\n \\nو\\n \\nاﻧدازه ﮔﯾری،\\n \\nﺑﮫ\\n \\nطور\\n \\nاﺳﺗﺎﻧدارد\\n \\nو\\n \\nﮐﯾﻔﯽ\\n \\nﺗوﺳط\\n \\nوزارت\\n \\nآﻣوزش\\n \\nو\\n \\nﭘرورش\\n \\nﺑﮫ\\n \\nﺻورت\\n \\nﺳراﺳری\\n \\nو\\n \\nﻧﮭﺎﯾﯽ)ﮐﺗﺑﯽ(\\n \\nدر\\n \\nﺳﻧوات\\n \\nﻣﺧﺗﻠف\\n \\nﻣطﺎﺑق\\n \\nﻣﺻوﺑﺎت\\n \\nﺷورای\\n \\nﻋﺎﻟﯽ\\n \\nآﻣوزش\\n \\nو\\n \\nﭘرورش\\n \\nﺑرﮔزار\\n \\nﺷده\\n \\nﺑﺎﺷد.\\n دوره :ﻣﺗوﺳطﮫ اﯾن  دوره  ﺷﺎﻣل  ﻧظﺎم ھﺎی  آﻣوزﺷﯽ  دوره  ﺷش ﺳﺎﻟﮫ  ﻣﺗوﺳطﮫ،  دوره  ﭼﮭﺎرﺳﺎﻟﮫ  ﻣﺗوﺳطﮫ،  \\nدوره\\n \\nﻣﺗوﺳطﮫ\\n \\nﺳﮫ ﺳﺎﻟﮫ\\n \\nﻧﯾم ﺳﺎﻟﯽ\\n \\nواﺣدی/\\n \\nﺳﺎﻟﯽ واﺣدی،\\n \\nدوره\\n \\nﭘﯾش داﻧﺷﮕﺎھﯽ\\n \\nﻧﯾم ﺳﺎﻟﯽ\\n \\nواﺣدی/\\n \\nﺳﺎﻟﯽ\\n \\nواﺣدی\\n \\nو\\n \\nدوره\\n \\nدوم\\n \\nﻣﺗوﺳطﮫ\\n \\nﻧظﺎم\\n \\n3\\n-\\n3\\n-\\n3\\n-\\n3\\n \\nﻣﯽ ﺑﺎﺷد\\n اﯾﺟﺎد ﺳﺎﺑﻘﮫ :ﺗﺣﺻﯾﻠﯽ  ﺷرﮐت  اﻓراد  واﺟد  ﺷراﯾط  و  ﻓﺎﻗد  ﺳﺎﺑﻘﮫ  ﺗﺣﺻﯾﻠﯽ  در  آزﻣون ھﺎی ﻧﮭﺎﯾﯽ ﻧوﺑت  \\nﺧردادﻣﺎه.\\n ﺗرﻣﯾم ﺳﺎﺑﻘﮫ :ﺗﺣﺻﯾﻠﯽ  ﺷرﮐت  ﻣﺟدد  اﻓراد  واﺟد  ﺷراﯾط  و  دارای  ﺳﺎﺑﻘﮫ  ﺗﺣﺻﯾﻠﯽ  در  ﻣﺟﻣوﻋﮫ   آزﻣون  \\nدروس\\n \\nﻧﮭﺎﯾﯽ)دارای\\n \\nﺳﺎﺑﻘﮫ(\\n \\nﯾﮏ ﭘﺎﯾﮫ.\\n دروس ﻣؤﺛر:  دروس  ﻧﮭﺎﯾﯽ  ﮐﮫ  ﺑر  اﺳﺎس  ﻧﺗﺎﯾﺞ  آﻧﮭﺎ  ﻧﻣره  ﮐل  ﺳﺎﺑﻘﮫ  ﺗﺣﺻﯾﻠﯽ  ﻣﺣﺎﺳﺑﮫ  ﻣﯽ ﺷود.  ﻧﻣره ﮐل ﺳﺎﺑﻘﮫ  :ﺗﺣﺻﯾﻠﯽ  ﺑراﺳﺎس  ﺑﻧد  2 - 2  ﻣﺻوﺑﮫ  ﺟﻠﺳﮫ  843  ﻣورخ  15/04/1400  ﺷورای  ﻋﺎﻟﯽ  \\nاﻧﻘﻼب\\n \\nﻓرھﻧﮕﯽ\\n \\nﻧﻣره\\n \\nﮐل\\n \\nﺳﺎﺑﻘﮫ\\n \\nﺗﺣﺻﯾﻠﯽ\\n \\nﻋﺑﺎرت\\n \\nاﺳت\\n \\nاز\\n \\nﻣﯾﺎﻧﮕﯾن\\n \\nﻧﻣره\\n \\nوزﻧﯽ\\n \\nﻧﻣرات\\n \\nﺗراز\\n \\nﺷده\\n \\nدروس\\n \\nﻋﻣوﻣﯽ\\n \\nو\\n \\nﺗﺧﺻﺻﯽ.\\n ھﺎی ﮔروه آزﻣﺎﯾﺷﯽ:  ﺗﻘﺳﯾم ﺑﻧدی  رﺷﺗﮫ ھﺎی  ﺗﺣﺻﯾﻠﯽ  آﻣوزش  ﻋﺎﻟﯽ  ﮐﮫ  ﺷﺎﻣل  ﭘﻧﺞ  ﮔروه:  ﻋﻠوم  رﯾﺎﺿﯽ  و  ﻓﻧﯽ،  \\nﻋﻠوم ﺗﺟرﺑﯽ\\n \\nو\\n \\nﻋﻠوم اﻧﺳﺎﻧﯽ)ﮔروه ھﺎی\\n \\nاﺻﻠﯽ(\\n \\nو\\n \\nزﺑﺎن ھﺎی\\n \\nﺧﺎرﺟﯽ\\n \\nو\\n \\nھﻧر)ﮔروه ھﺎی\\n \\nﻏﯾراﺻﻠﯽ(\\n \\nﻣﯽ ﺑﺎﺷﻧد.\\n (ب ﻣﺷﻣوﻻن اﯾﺟﺎد  ﺳﺎﺑﻘﮫ  :ﺗﺣﺻﯾﻠﯽ  داﻧش آﻣوزان ﺷﺎﺧﮫ  ﻧظری  ﺷﺎﻏل  ﺑﮫ  ﺗﺣﺻﯾل  در  ﭘﺎﯾﮫ ھﺎی  ﯾﺎزدھم  و  دوازدھم،  ﺑﺎ  ﺷرﮐت  در  آزﻣون ھﺎی  \\nﻧﮭﺎﯾﯽ\\n \\nﻧوﺑت\\n \\nﺧردادﻣﺎه،\\n \\nﺳﺎﺑﻘﮫ\\n \\nﺗﺣﺻﯾﻠﯽ\\n \\nﺑرای\\n \\nﮔروه\\n \\nآزﻣﺎﯾﺷﯽ\\n \\nﻣﺗﻧﺎظر\\n \\nﺑﺎ\\n \\nرﺷﺗﮫ\\n \\nﺗﺣﺻﯾﻠﯽ\\n \\nﺧود\\n \\nرا\\n \\nاﯾﺟﺎد\\n \\nﻣﯽ ﻧﻣﺎﯾﻧد.\\n \\nﺳﺎﯾر\\n \\nاﻓراد\\n \\nﮐﮫ\\n \\nﺳﺎﺑﻘﮫ\\n \\nﺗﺣﺻﯾﻠﯽ\\n \\nﻧدارﻧد،\\n \\nﻣﯽ ﺗواﻧﻧد\\n \\nﺻرﻓﺎً\\n \\nﺑرای\\n \\nدروس\\n \\nﻣؤﺛر\\n \\nﯾﮏ\\n \\nﮔروه\\n \\nآزﻣﺎﯾﺷﯽ\\n \\n1', metadata={'source': '/home/roshan/farhad/reg-base-dev/tarmim1.pdf', 'page': 0}),\n",
       " Document(page_content='اﺻﻠﯽ و  ﯾﺎ  ﯾﮏ  ﮔروه  آزﻣﺎﯾﺷﯽ  ﻏﯾراﺻﻠﯽ  ﺑر  اﺳﺎس  ﺟداول  ﻋﻧﺎوﯾن  و  ﺿراﯾب  دروس  ﺳواﺑق  ﺗﺣﺻﯾﻠﯽ\\n1 \\n و  \\nﺑﺎ\\n \\nرﻋﺎﯾت\\n \\nﻣوارد\\n \\nزﯾر\\n \\nاﯾﺟﺎد\\n \\nﺳﺎﺑﻘﮫ\\n \\nﻧﻣﺎﯾﻧد:\\n 1-داﻧش آﻣوزان ﭘﺎﯾﮫ  دوازدھم  در  ﺻورت  اﻧﺗﺧﺎب  ﮔروه  آزﻣﺎﯾﺷﯽ  ﻏﯾر  ﻣﺗﻧﺎظر  ﺑﺎ  رﺷﺗﮫ  ﺗﺣﺻﯾﻠﯽ  ﺧود،  \\nﻣﯽ ﺗواﻧﻧد\\n \\nدر\\n \\nدروس\\n \\nﻧﮭﺎﯾﯽ\\n \\nﭘﺎﯾﮫ ھﺎی\\n \\nﯾﺎزدھم\\n \\nو\\n \\nدوازدھم\\n \\nآن\\n \\nﮔروه\\n \\nآزﻣﺎﯾﺷﯽ\\n \\nاﯾﺟﺎد\\n \\nﺳﺎﺑﻘﮫ\\n \\nﮐﻧﻧد.\\n 2- در  ﺻورت  ﺗداﺧل  زﻣﺎﻧﯽ  آزﻣون  درس  اﻧﺗﺧﺎﺑﯽ  ﺑرای  اﯾﺟﺎد  ﺳﺎﺑﻘﮫ  ﺗﺣﺻﯾﻠﯽ  ﺑﺎ  آزﻣون  درس  رﺷﺗﮫ  \\nﺗﺣﺻﯾﻠﯽ،\\n \\nﻣﺗﻘﺎﺿﯽ\\n \\nﺑﺎﯾد\\n \\nدر\\n \\nآزﻣون\\n \\nدرس\\n \\nاﻧﺗﺧﺎﺑﯽ\\n \\nدر\\n \\nﺧردادﻣﺎه\\n \\nو\\n \\nآزﻣون\\n \\nدرس\\n \\nرﺷﺗﮫ\\n \\nﺗﺣﺻﯾﻠﯽ\\n \\nﺧود\\n \\nدر\\n \\nﺷﮭرﯾورﻣﺎه\\n \\nﺷرﮐت\\n \\nﻧﻣﺎﯾد)وﺿﻌﯾت\\n \\nاﯾن\\n \\nدرس\\n \\nدر\\n \\nﺧردادﻣﺎه،\\n \\nﺑﮫ ﻋﻧوان\\n \\nﻏﯾﺑت\\n \\nﻣوﺟﮫ\\n \\nﺛﺑت\\n \\nﻣﯽ ﺷود(.\\n 3- داﻧش آﻣوزان  ﻣدارس  ﺑزرﮔﺳﺎﻻن،  آﻣوزش  از  راه  دور،  اﯾﺛﺎرﮔران  و  داوطﻠب  آزاد  ﮐﮫ  در  آزﻣون  دروس  \\nﻧﮭﺎﯾﯽ\\n \\nﻧوﺑت\\n \\nدی\\n \\nو\\n \\nﺷﮭرﯾورﻣﺎه)ﻧﺎظر\\n \\nﺑﮫ\\n \\nﺑﻧد\\n \\n1\\n \\nﻗﺳﻣت\\n \\nت(\\n \\nﺷرﮐت\\n \\nﻧﻣوده اﻧد،\\n \\nﺑﮫ\\n \\nﺷرط\\n \\nﮐﺳب\\n \\nﺣد\\n \\nﻧﺻﺎب\\n \\nﻗﺑوﻟﯽ\\n \\nدر\\n \\nﻧوﺑت ھﺎی\\n \\nﻣذﮐور،\\n \\nﺑﺎﯾد\\n \\nدر\\n \\nﺧردادﻣﺎه،\\n \\nﺻرﻓﺎً\\n \\nدر\\n \\nآزﻣون\\n \\nاﯾﺟﺎد\\n \\nﺳﺎﺑﻘﮫ\\n \\nآن\\n \\nدروس\\n \\nﺷرﮐت\\n \\nﻧﻣﺎﯾﻧد.\\n 4- ھﻧرﺟوﯾﺎن  ﺷﺎﺧﮫ ھﺎی  ﻓﻧﯽ  و  ﺣرﻓﮫ ای  و  ﮐﺎرداﻧش  ﭘﺎﯾﮫ ھﺎی  ﯾﺎزدھم)ﺻرﻓﺎً  دروس  ﻧﮭﺎﯾﯽ  ﭘﺎﯾﮫ  ﯾﺎزدھم(  و  \\nدوازدھم\\n \\n)دروس\\n \\nﻧﮭﺎﯾﯽ\\n \\nﭘﺎﯾﮫ ھﺎی\\n \\nﯾﺎزدھم\\n \\nو\\n \\nدوازدھم(\\n \\nﻣﯽ ﺗواﻧﻧد\\n \\nدر\\n \\nﯾﮏ\\n \\nﮔروه\\n \\nآزﻣﺎﯾﺷﯽ\\n \\nاﺻﻠﯽ\\n \\nو\\n \\nﯾﺎ\\n \\nﯾﮏ\\n \\nﮔروه\\n \\nآزﻣﺎﯾﺷﯽ\\n \\nﻏﯾراﺻﻠﯽ\\n \\nﻣورد\\n \\nﺗﻘﺎﺿﺎ\\n \\nﺑرای\\n \\nاﯾﺟﺎد\\n \\nﺳﺎﺑﻘﮫ\\n \\nﺗﺣﺻﯾﻠﯽ\\n \\nﺷرﮐت\\n \\nﻧﻣﺎﯾﻧد.\\n 5- ﺗﻣﺎم  ﻓﺎرغ اﻟﺗﺣﺻﯾﻼن  ﺷﺎﺧﮫ  ﻧظری  دﯾﭘﻠم  ﻗﺑل  از  ﺳﺎل  1384  و  ﭘﯾش داﻧﺷﮕﺎھﯽ  ﻗﺑل  از  ﺳﺎل  1391 .  6-داﻧش آﻣوزان و  ﻓﺎرغ اﻟﺗﺣﺻﯾﻼﻧﯽ  ﮐﮫ  ﺳواﺑق  ﺗﺣﺻﯾﻠﯽ  آﻧﺎن  ﻣﻧﻘﺿﯽ  ﺷده  اﺳت.  ﺗﺑﺻره: ﺗﺎ  ﺳﺎل1405،  ﺳواﺑق  ﺗﺣﺻﯾﻠﯽ  ﺷﺎﻣل  ﻧﺗﺎﯾﺞ  آزﻣون ھﺎی  ﻧﮭﺎﯾﯽ  ﺧردادﻣﺎه  1384)دﯾﭘﻠم  و  \\nﺳﺎل\\n1391\\n \\n)ﭘﯾش داﻧﺷﮕﺎھﯽ\\n \\nو\\n \\nﭘس\\n \\nاز\\n \\nآن\\n \\nﻣﯽ ﺑﺎﺷد\\n \\nو\\n \\nدر\\n \\nﺳﺎل ھﺎی\\n \\nﺑﻌدی،\\n \\nزﻣﺎن\\n \\nاﻋﺗﺑﺎر\\n \\nﺳواﺑق\\n \\nﺗﺣﺻﯾﻠﯽ\\n \\nﺗوﺳط\\n \\nﮐﻣﯾﺳﯾون\\n \\nﻣﻌﯾن\\n \\nﺷورای\\n \\nﻋﺎﻟﯽ\\n \\nآﻣوزش\\n \\nو\\n \\nﭘرورش\\n \\nﻣﺷﺧص\\n \\nﻣﯽ ﺷود.\\n 7- ﻓﺎرغ اﻟﺗﺣﺻﯾﻼن  ﺷﺎﺧﮫ  ﻧظری  داوطﻠب  ﺷرﮐت  در  ﮔروه  آزﻣﺎﯾﺷﯽ  ﻏﯾر  ﻣﺗﻧﺎظر  ﺑﺎ  رﺷﺗﮫ  ﺗﺣﺻﯾﻠﯽ  ﺧود.  8- ﻓﺎرغ اﻟﺗﺣﺻﯾﻼن  ﺷﺎﺧﮫ ھﺎی  ﻓﻧﯽ  و  ﺣرﻓﮫ ای  و  ﮐﺎرداﻧش  دوره  ﻣﺗوﺳطﮫ.  9- ﻓﺎرغ اﻟﺗﺣﺻﯾﻼن  ﻣدارس  ﺑﯾن اﻟﻣﻠل  و  دارﻧدﮔﺎن  ﮔواھﯾﻧﺎﻣﮫ  ﻣﻌﺎدل  دوره  ﻣﺗوﺳطﮫ  و  ﭘﯾش داﻧﺷﮕﺎھﯽ  ﺻﺎدره  \\nاز\\n \\nﮐﻣﯾﺳﯾون\\n \\nارزﺷﯾﺎﺑﯽ\\n \\nﻣدارک\\n \\nﺗﺣﺻﯾﻠﯽ\\n \\nﺧﺎرﺟﯽ.\\n 10- طﻼب  ﺣوزه ھﺎی  ﻋﻠﻣﯾﮫ  ﮐﮫ  دارای  ﻣدرک  ﺳطﺢ  ﯾﮏ  ﺣوزوی  ﻣﯽ ﺑﺎﺷﻧد  ﺻرﻓﺎً  در  دروس  ﻣؤﺛر  ﮔروه  \\nآزﻣﺎﯾﺷﯽ\\n \\nﻋﻠوم اﻧﺳﺎﻧﯽ\\n2\\n.\\n 11- ﺳﺎﯾر  ﻓﺎرغ اﻟﺗﺣﺻﯾﻼن  و  داﻧش آﻣوزان  دوره  ﻣﺗوﺳطﮫ  ﻓﺎﻗد  ﺗﻣﺎم  ﯾﺎ  ﺑﺧﺷﯽ  از  ﺳواﺑق  ﺗﺣﺻﯾﻠﯽ.  (پ ﻣﺷﻣوﻻن ﺗرﻣﯾم  ﺳﺎﺑﻘﮫ  :ﺗﺣﺻﯾﻠﯽ   ﺗﻣﺎﻣﯽ اﻓرادی  ﮐﮫ  دارای  ﺳﺎﺑﻘﮫ  ﺗﺣﺻﯾﻠﯽ  ھﺳﺗﻧد؛  ازﺟﻣﻠﮫ  داﻧش آﻣوزان  و  ھﻧرﺟوﯾﺎن  ﭘﺎﯾﮫ  دوازدھم  و  \\nﻓﺎرغ اﻟﺗﺣﺻﯾﻼن\\n \\nﺷﺎﺧﮫ ھﺎی\\n \\nﻧظری،\\n \\nﻓﻧﯽ\\n \\nو\\n \\nﺣرﻓﮫ ای\\n \\nو\\n \\nﮐﺎرداﻧش\\n \\nﺻرﻓﺎً\\n \\nﺑرای\\n \\nدروس\\n \\nﻣؤﺛر\\n \\nﯾﮏ\\n \\nﮔروه\\n \\nآزﻣﺎﯾﺷﯽ\\n \\nاﺻﻠﯽ\\n \\nو\\n \\nﯾﺎ\\n \\nﯾﮏ\\n \\nﮔروه\\n \\nآزﻣﺎﯾﺷﯽ\\n \\nﻏﯾراﺻﻠﯽ\\n \\nﺑر\\n \\nاﺳﺎس\\n \\nﺟداول\\n \\nﻋﻧﺎوﯾن\\n \\nو\\n \\nﺿراﯾب\\n \\nدروس\\n \\nﺳواﺑق\\n \\nﺗﺣﺻﯾﻠﯽ.\\n \\n2\\n   \\nﺑﺮ\\n \\nاﺳﺎس\\n \\nﻣﺼﻮﺑات\\n \\nﺟﻠﺴﮫ\\n \\n548\\n \\nﻣﻮرخ\\n \\n28/07/1383\\n \\nو\\n \\nﺟﻠﺳﮫ\\n \\n368\\n \\nﻣورخ\\n \\n03/11/1374\\n \\nﺷورای\\n \\nﻋﺎﻟﻲ\\n \\nاﻧﻘﻼب\\n \\nﻓﺮھﻨﮕﻲ\\n \\nدرﺧﺻوص\\n \\nاداﻣﮫ\\n \\nﺗﺣﺻﯾل\\n \\nدارﻧدﮔﺎن\\n \\nﻣدارک\\n \\nﺗﺣﺻﯾﻠﯽ\\n \\nﺣوزوی\\n \\nدر\\n \\nداﻧﺷﮕﺎه ھﺎ،\\n \\nدارﻧدﮔﺎن\\n \\nﻣدارک\\n \\nﺣوزوی\\n \\nﻣﯽ ﺗواﻧﻧد\\n \\nﭘس\\n \\nاز\\n \\nﻗﺑوﻟﯽ\\n \\nدر\\n \\nآزﻣون\\n \\nﺳراﺳری\\n \\nدرﺗﻣﺎﻣﯽ\\n \\nرﺷﺗﮫ ھﺎی\\n \\nﻋﻠوم\\n \\nاﻧﺳﺎﻧﯽ\\n \\nدر\\n \\nداﻧﺷﮕﺎه ھﺎ\\n \\nاداﻣﮫ\\n \\nﺗﺣﺻﯾل\\n \\nدھﻧد.\\n \\n1\\n اﯾن ﺟداول  در  ﺻورت  ﻧﯾﺎز  ﺗوﺳط  ﻣﻌﺎوﻧت  آﻣوزش  ﻣﺗوﺳطﮫ/  ﻣرﮐز  ارزﺷﯾﺎﺑﯽ  و  ﺗﺿﻣﯾن  ﮐﯾﻔﯾت  ﻧظﺎم  آﻣوزش  و  ﭘرورش،  ﭘس  از  ﺗﺻوﯾب  در  ﺷورای  ﺳﻧﺟش  و  \\nﭘذﯾرش\\n \\nداﻧﺷﺟو\\n \\nاطﻼع رﺳﺎﻧﯽ\\n \\nﻣﯽ ﺷود.\\n \\n2', metadata={'source': '/home/roshan/farhad/reg-base-dev/tarmim1.pdf', 'page': 1}),\n",
       " Document(page_content='(ت ﺷراﯾط اﯾﺟﺎد  و  ﺗرﻣﯾم  ﺳﺎﺑﻘﮫ  ﺗﺣﺻﯾﻠﯽ  1-ﻣﺗﻘﺎﺿﯾﺎن ﻣﯽ ﺗواﻧﻧد  ﺑرای  اﯾﺟﺎد  ﺳﺎﺑﻘﮫ  ﺗﺣﺻﯾﻠﯽ  درس/دروس  ﻣوردﻧظر  ﺧود  را  ﺻرﻓﺎً  در  ﻧوﺑت  \\nﺧردادﻣﺎه\\n3\\n \\nاﻧﺗﺧﺎب\\n \\nو\\n \\nدر\\n \\nآزﻣون\\n \\nﻣرﺑوط\\n \\nﺷرﮐت\\n \\nﻧﻣﺎﯾﻧد.\\n 2-ﺗرﻣﯾم ﺳﺎﺑﻘﮫ  ﺗﺣﺻﯾﻠﯽ  ﺻرﻓﺎً  در  ﺻورت  ﺷرﮐت  در  ﻣﺟﻣوع  دروس  ﻣوﺛر  دارای  ﺳﺎﺑﻘﮫ  ھر  ﭘﺎﯾﮫ  در  ﯾﮏ  \\nﮔروه\\n \\nآزﻣﺎﯾﺷﯽ\\n \\nاﺻﻠﯽ\\n \\nو\\n \\nﯾﺎ\\n \\nﯾﮏ\\n \\nﮔروه\\n \\nآزﻣﺎﯾﺷﯽ\\n \\nﻏﯾراﺻﻠﯽ\\n ﺻرﻓﺎً در ﻧوﺑت  ﺧردادﻣﺎه  و  ﺑدون  ﻣﺣدودﯾت  از  \\nﻣﻧظر\\n \\nﺗﻌداد\\n \\nدﻓﻌﺎت\\n \\nﺷرﮐت\\n \\nدر\\n \\nآزﻣون\\n \\nاﻣﮑﺎن ﭘذﯾر\\n \\nاﺳت.\\n :ﺗﺑﺻره ﺻرﻓﺎً در  ﻧوﺑت  ﺧرداد  1404،  داوطﻠﺑﺎن  ﺗرﻣﯾم  ﺳﺎﺑﻘﮫ  ﺗﺣﺻﯾﻠﯽ  ﺑرای  اوﻟﯾن  ﻣرﺗﺑﮫ،  ﻣﺟﺎز  ﺑﮫ  \\nاﻧﺗﺧﺎب\\n \\nﺗﮏ\\n \\nدرس\\n \\nﻣﯽ\\n \\nﺑﺎﺷﻧد.\\n \\nﺑرای\\n \\nاﯾن\\n \\nﮔروه\\n \\nاز\\n \\nداوطﻠﺑﺎن\\n \\nﮐﮫ\\n \\nدر\\n \\nﯾﮏ\\n \\nدرس\\n \\nدارای\\n \\nﭼﻧد\\n \\nﻧﻣره\\n \\nﻣﯽ\\n \\nﺑﺎﺷﻧد،\\n \\nﺑﯾﺷﺗرﯾن\\n \\nﻧﻣره\\n \\nﺗراز\\n \\nھر\\n \\nدرس\\n \\nﺑرای\\n \\nﻣﺣﺎﺳﺑﮫ\\n \\nﻧﻣره\\n \\nﮐل\\n \\nﺳﺎﺑﻘﮫ\\n \\nﺗﺣﺻﯾﻠﯽ\\n \\nﻟﺣﺎظ\\n \\nﻣﯽ ﺷود. 3- ﺑرای  داوطﻠﺑﺎن  ﺗرﻣﯾم  ﺳﺎﺑﻘﮫ  ﺗﺣﺻﯾﻠﯽ،  در  ﺻورت  ﻋدم  ﺷرﮐت  و  ﻏﯾﺑت)ﻣوﺟﮫ  ﯾﺎ  ﻏﯾرﻣوﺟﮫ(  در  ﯾﮏ  ﯾﺎ  \\nﭼﻧد\\n \\nآزﻣون\\n \\nاﻧﺗﺧﺎب\\n \\nﺷده،\\n \\nﻧﻣرات\\n \\nﮐﺳب\\n \\nﺷده\\n \\nدر\\n \\nﺳﺎﯾر\\n \\nآزﻣون ھﺎی\\n \\nآن\\n \\nﻧوﺑت\\n \\nﻧﯾز\\n \\nﺑﮫ ﻋﻧوان\\n \\nﺳﺎﺑﻘﮫ\\n \\nﺗﺣﺻﯾﻠﯽ\\n \\nﻣﻧظور\\n \\nﻧﺧواھد\\n \\nﺷد)ﺳﺎﺑﻘﮫ\\n \\nﺗﺣﺻﯾﻠﯽ\\n \\nﻣﻌﺗﺑر\\n \\nﭘﯾﺷﯾن\\n \\nﻣﻼک\\n \\nﻋﻣل\\n \\nﻗرار\\n \\nﻣﯽ ﮔﯾرد(.\\n 4-ﻧﻣرات اﯾﺟﺎد  ﺳﺎﺑﻘﮫ  ﺗﺣﺻﯾﻠﯽ  و  ﺗرﻣﯾم  ﺳﺎﺑﻘﮫ  ﺗﺣﺻﯾﻠﯽ  ﺻرﻓﺎً  ﺑﮫ ﻋﻧوان  ﺳﺎﺑﻘﮫ  ﺗﺣﺻﯾﻠﯽ  اﻋﺗﺑﺎر  ﺧواھد  \\nداﺷت\\n \\nو\\n \\nدر\\n \\nﮐﺎرﻧﺎﻣﮫ\\n \\nﺗﺣﺻﯾﻠﯽ\\n \\nﻣﺗﻘﺎﺿﯽ\\n \\nﻣﻧظور\\n \\nﻧﻣﯽ ﺷود.\\n :ﺗﺑﺻره در  ﺻورت  ﺗﻘﺎﺿﺎی  ﮔواھﯽ  ﻧﻣرات  آزﻣون  ﺗرﻣﯾم  ﺳﺎﺑﻘﮫ  ﺗﺣﺻﯾﻠﯽ  ﺗوﺳط  ذی ﻧﻔﻌﺎن  ﺑرای  اراﺋﮫ  ﺑﮫ  \\nﻣراﮐز\\n \\nو\\n \\nﻣؤﺳﺳﺎت\\n \\nآﻣوزﺷﯽ\\n \\nﺧﺎرج\\n \\nاز\\n \\nﮐﺷور\\n \\nو\\n \\nارﺳﺎل\\n \\nدرﺧواﺳت\\n \\nاﯾﺷﺎن\\n \\nاز\\n \\nطرﯾق\\n \\nﻣرﮐز\\n \\nاﻣور\\n \\nﺑﯾن اﻟﻣﻠل\\n \\nو\\n \\nﻣدارس\\n \\nﺧﺎرج\\n \\nاز\\n \\nﮐﺷور،\\n \\nﺻدور\\n \\nﮔواھﯽ\\n \\nﻣذﮐور\\n \\nﺗوﺳط\\n \\nﻣرﮐز\\n \\nارزﺷﯾﺎﺑﯽ\\n \\nو\\n \\nﺗﺿﻣﯾن\\n \\nﮐﯾﻔﯾت\\n \\nﻧظﺎم\\n \\nآﻣوزش\\n \\nو\\n \\nﭘرورش\\n \\nﺑﻼﻣﺎﻧﻊ\\n \\nاﺳت. 5-ﻓراﯾﻧدھﺎی ﺛﺑت ﻧﺎم  و  اﻋﻼم  ﻧﺗﺎﯾﺞ  ﻗطﻌﯽ  آزﻣون ھﺎی  اﯾﺟﺎد  و  ﯾﺎ  ﺗرﻣﯾم  ﺳﺎﺑﻘﮫ  ﺗﺣﺻﯾﻠﯽ،  ﺑدون  ﻣراﺟﻌﮫ  \\nﺣﺿوری\\n \\nﺑﮫ\\n \\nﻣدرﺳﮫ\\n \\nو\\n \\nﺑﮫ ﺻورت\\n \\nاﻟﮑﺗروﻧﯾﮑﯽ\\n \\nاز\\n \\nطرﯾق\\n \\nﭘﻧﺟره\\n \\nواﺣد\\n \\nﺧدﻣﺎت\\n \\nاﻟﮑﺗروﻧﯾﮏ\\n \\nوزارت\\n \\nآﻣوزش وﭘرورش\\n \\nاﻧﺟﺎم\\n \\nﻣﯽ ﺷود)ﮔواھﯽ\\n \\nﯾﺎ\\n \\nﮐﺎرﻧﺎﻣﮫ ای\\n \\nﺑرای\\n \\nﺷرﮐت\\n \\nﮐﻧﻧدﮔﺎن\\n \\nﺻﺎدر\\n \\nﻧﺧواھد\\n \\nﺷد(.\\n ﺗﺑﺻره 1:  ﺑرای  داوطﻠﺑﺎن  ﻣﺷﻐول  ﺑﮫ  ﺗﺣﺻﯾل)داﻧش  آﻣوزان(  درﺧواﺳت  ﺛﺑت  ﺷده،  ﺗوﺳط  ﻣدﯾر  ﻣدرﺳﮫ  \\nﻣﺣل\\n \\nﺗﺣﺻﯾل\\n \\nﺗﮑﻣﯾل،\\n \\nﺗﺄﯾﯾد\\n \\nو\\n \\nﻧﮭﺎﯾﯽ\\n \\nﻣﯽ ﺷود.\\n \\n ﺗﺑﺻره 2:  ﺑرای  ھﻧرﺟوﯾﺎﻧﯽ  ﮐﮫ  در  آزﻣون  ﻧﮭﺎﯾﯽ  دروس  ﻣؤﺛر  در  ﮔروه  آزﻣﺎﯾﺷﯽ  ھﻧر  و  ﻣرﺑوط  ﺑﮫ  رﺷﺗﮫ  \\nﺗﺣﺻﯾﻠﯽ\\n \\nﺧود\\n \\nﺷرﮐت\\n \\nﻣﯽ ﮐﻧﻧد،\\n \\nﻧﻣرات\\n \\nﮐﺳب\\n \\nﺷده\\n \\nﻣﯽ ﺗواﻧد\\n \\nﺑﺎ\\n \\nدرﺧواﺳت\\n \\nذی ﻧﻔﻊ\\n \\nدر\\n \\nﮐﺎرﻧﺎﻣﮫ\\n \\nﺗﺣﺻﯾﻠﯽ\\n \\nﺛﺑت\\n \\n ﺷود.\\n ﺗﺑﺻره 3: ﻧﻣرات  ﺷرﮐت  ﮐﻧﻧدﮔﺎن  آزﻣون ھﺎی  ﻧﮭﺎﯾﯽ  در  ﺣوزه ھﺎی  ﺧﺎرج  از  ﮐﺷور  ﺑﮫ  ﺷرط  اﺣراز  ﺿواﺑط  \\nو\\n \\nﻣﻘررات\\n \\nﺗﺷﮑﯾل\\n \\nﻣرﮐز\\n \\nآزﻣون\\n \\nﻣطﺎﺑق\\n \\nﺷﯾوه\\n \\nﻧﺎﻣﮫ\\n \\nﻣرﺑوط،\\n \\nﺑﮫ\\n \\nﻋﻧوان\\n \\nﺳﺎﺑﻘﮫ\\n \\nﺗﺣﺻﯾﻠﯽ\\n \\nﺑﮫ\\n \\nﺳﺎزﻣﺎن\\n \\nﺳﻧﺟش\\n \\nآﻣوزش\\n \\nﮐﺷور\\n \\nارﺳﺎل\\n \\nﻣﯽ\\n \\nﺷود.\\n \\n3 \\nاز ﻧوﺑت  اﻣﺗﺣﺎﻧﯽ  ﺧردادﻣﺎه  ﺳﺎل1402  و  ﭘس  از  آن،  ﺳﺎﺑﻘﮫ  ﺗﺣﺻﯾﻠﯽ  ﺻرﻓﺎً  ﺷﺎﻣل  ﻧﺗﺎﯾﺞ  آزﻣون ھﺎی  ﻧوﺑت  ﺧردادﻣﺎه  ﻣﯽ ﺑﺎﺷد.  ﺑﮫ  ﻋﺑﺎرت  دﯾﮕر،  از  اﯾن  ﻧوﺑت  آزﻣوﻧﯽ  \\nﺑﮫ\\n \\nﺑﻌد،\\n \\nﻧﻣرات\\n \\nﮐﺳب\\n \\nﺷده\\n \\nدر\\n \\nﻧوﺑت ھﺎی\\n \\nﺷﮭرﯾور\\n \\nو\\n \\nدی ﻣﺎه\\n \\nﺑﮫ\\n \\nﻋﻧوان\\n \\nﺳﺎﺑﻘﮫ\\n \\nﺗﺣﺻﯾﻠﯽ\\n \\nﻟﺣﺎظ\\n \\nﻧﺧواھﻧد\\n \\nﺷد.\\n \\n3', metadata={'source': '/home/roshan/farhad/reg-base-dev/tarmim1.pdf', 'page': 2}),\n",
       " Document(page_content='ﺗﺑﺻره 4: ﺑرای  ﺗﺳﮭﯾل  ﺛﺑت ﻧﺎم  ﻣﺗﻘﺎﺿﯾﺎن  اﯾﺟﺎد  و  ﯾﺎ  ﺗرﻣﯾم  ﺳﺎﺑﻘﮫ  ﺗﺣﺻﯾﻠﯽ  در  ﺧﺎرج  از  ﮐﺷور،  ﻣرﮐز  اﻣور  \\nﺑﯾن\\n \\nاﻟﻣﻠل\\n \\nو\\n \\nﻣدارس\\n \\nﺧﺎرج\\n \\nاز\\n \\nﮐﺷور\\n \\nﻧﺳﺑت\\n \\nﺑﮫ\\n \\nاﺧذ\\n \\nﺗﻘﺎﺿﺎ\\n \\nاز\\n \\nﻣﺗﻘﺎﺿﯾﺎن\\n \\nﺑﮫ\\n \\nطرﯾق\\n \\nﻣﻘﺗﺿﯽ\\n \\nاﻗدام\\n \\nو\\n \\nدر\\n \\nﺑﺎزه\\n \\nزﻣﺎﻧﯽ\\n \\nاﻋﻼم\\n \\nﺷده\\n \\nﺑرای\\n \\nﺛﺑت\\n \\nﻧﺎم\\n \\nدر\\n \\nﺳﺎﻣﺎﻧﮫ\\n \\nﻣرﺑوط\\n \\nﺛﺑت\\n \\nﻣﯽ ﻧﻣﺎﯾد.\\n 6-ھزﯾﻧﮫ ﺷرﮐت  در  آزﻣون ھﺎی  ﻧﮭﺎﯾﯽ  ﺑرای  اﯾﺟﺎد  و  ﯾﺎ  ﺗرﻣﯾم  ﺳﺎﺑﻘﮫ  ﺗﺣﺻﯾﻠﯽ  ﺑﮫ  ﺗﻔﮑﯾﮏ  ھر  درس  و  ﻣطﺎﺑق  \\nﻣﺻوﺑﮫ\\n \\nھﯾﺋت\\n \\nوزﯾران\\n \\nاﺧذ\\n \\nﻣﯽ ﺷود.\\n (ث ﺳﺎﯾر ﺿواﺑط  و  ﻧﮑﺎت  :ﺗوﺟﮫ ﻗﺎﺑل  1- ﻧﺣوه  و  ﻣﯾزان  ﮐﺎرﺑرد  ﻧﺗﺎﯾﺞ  ھرﯾﮏ  از  ﺳواﻻت  آزﻣون ھﺎی  ﻧﮭﺎﯾﯽ  در  ﻓراﯾﻧدھﺎی  ﺗوﻟﯾد  ﺳﺎﺑﻘﮫ  ﺗﺣﺻﯾﻠﯽ  و  \\nﻋﻣﻠﮑرد\\n \\n)ﮐﺎرﻧﺎﻣﮫ(\\n \\nﺗﺣﺻﯾﻠﯽ\\n \\nﺗوﺳط\\n \\nﻣرﮐز\\n \\nارزﺷﯾﺎﺑﯽ\\n \\nو\\n \\nﺗﺿﻣﯾن\\n \\nﮐﯾﻔﯾت\\n \\nﻧظﺎم\\n \\nآﻣوزش و ﭘرورش\\n \\nﺗﻌﯾﯾن\\n \\nو\\n \\nاﻋﻣﺎل\\n \\nﻣﯽ ﺷود.\\n 2- داﻧش آﻣوزان  ﺷﺎﺧﮫ  ﻧظری  ﺷﺎﻏل  ﺑﮫ  ﺗﺣﺻﯾل  در  ﻣدارس  ﺑزرﮔﺳﺎﻻن،  آﻣوزش  از  راه  دور،  اﯾﺛﺎرﮔران  و  \\nداوطﻠﺑﺎن\\n \\nآزاد\\n \\nﻣﺟﺎزﻧد\\n \\nﺑدون\\n \\nﻧﯾﺎز\\n \\nﺑﮫ\\n \\nاﺧذ\\n \\nﻣﺟوز\\n \\nاز\\n \\nﮐﻣﯾﺳﯾون\\n \\nﺧﺎص\\n \\nﺗﻣﺎم\\n \\nدروس)ﻧﮭﺎﯾﯽ\\n \\nو\\n \\nﻏﯾر\\n \\nﻧﮭﺎﯾﯽ(\\n \\nرا\\n \\nﻣﻌﺎدل\\n \\nﺑﺎ\\n \\nﯾﮏ ﭘﺎﯾﮫ\\n \\nﺗﺣﺻﯾﻠﯽ\\n \\nﺑﺎ\\n \\nرﻋﺎﯾت\\n \\nﺗواﻟﯽ\\n \\nدروس\\n \\nدر\\n \\nﻧﯾم ﺳﺎل\\n \\nدوم\\n \\nﺳﺎل\\n \\nﺗﺣﺻﯾﻠﯽ\\n \\nاﻧﺗﺧﺎب\\n \\nو\\n \\nدر\\n \\nآزﻣون\\n \\nﺧردادﻣﺎه\\n \\nﺷرﮐت\\n \\nﻧﻣﺎﯾﻧد.\\n 3-  ﺑرای  ﭘذﯾرش  داوطﻠﺑﺎن  ورود  ﺑﮫ  ﻣراﮐز  و  ﻣوﺳﺳﺎت  آﻣوزش  ﻋﺎﻟﯽ  در  ﺳﺎل  ﺗﺣﺻﯾﻠﯽ  \\n1405\\n-\\n1404\\n)ﺧرداد\\n \\n1404\\n(،\\n \\nﺳواﺑق\\n \\nﺗﺣﺻﯾﻠﯽ\\n \\nﭘﺎﯾﮫ\\n \\nﯾﺎزدھم\\n \\nﺑﮫ\\n \\nﺻورت\\n \\nﻣﺛﺑت\\n \\nو\\n \\nﺳواﺑق\\n \\nﺗﺣﺻﯾﻠﯽ\\n \\nﭘﺎﯾﮫ\\n \\nدوازدھم\\n \\nﺑﮫ\\n \\nﺻورت\\n \\nﻗطﻌﯽ\\n \\nاﻋﻣﺎل\\n \\nﻣﯽ\\n \\nﺷود؛\\n \\nﻟذا،\\n \\nﺻرﻓﺎً\\n \\nﺑرای\\n \\nاﯾن\\n \\nﺳﺎل،\\n \\nﻧﻣره\\n \\nﮐل\\n \\nﺳﺎﺑﻘﮫ\\n \\nﺗﺣﺻﯾﻠﯽ\\n \\nﺑراﺳﺎس\\n \\nدو\\n \\nﻣﺟﻣوﻋﮫ\\n \\nﺿراﯾب)ﻣﺟﻣوع\\n \\nﭘﺎﯾﮫ ھﺎی\\n \\nﯾﺎزدھم\\n \\nو\\n \\nدوازدھم\\n \\n/\\n \\nدوازدھم(\\n \\nﻣﺣﺎﺳﺑﮫ\\n \\nو\\n \\nﺑﯾﺷﺗرﯾن\\n \\nﻧﻣره\\n \\nﮐل\\n \\nﺑﺎ\\n \\nﺳﮭم\\n \\nﺷﺻت\\n \\nدرﺻدی\\n \\nدر\\n \\nﭘذﯾرش\\n \\nداوطﻠﺑﺎن\\n \\nورود\\n \\nﺑﮫ\\n \\nرﺷﺗﮫ\\n \\nﻣﺣل ھﺎی\\n \\nﭘرﻣﺗﻘﺎﺿﯽ\\n \\nاﻋﻣﺎل\\n \\nﻣﯽ ﺷود.\\n \\nﺑرای\\n \\nﭘذﯾرش\\n \\nدر\\n \\nﺳﺎل\\n \\nﺗﺣﺻﯾﻠﯽ\\n \\n1406\\n-\\n1405\\n)ﺧرداد\\n \\n1405\\n(\\n \\nو\\n \\nﭘس\\n \\nاز\\n \\nآن،\\n \\nﻧﻣره\\n \\nﮐل\\n \\nﺳﺎﺑﻘﮫ\\n \\nﺗﺣﺻﯾﻠﯽ\\n \\nﺑﺎ\\n \\nﺗرﮐﯾب\\n \\nﻣﺟﻣوع\\n \\nﻧﺗﺎﯾﺞ\\n \\nﺳواﺑق\\n \\nﭘﺎﯾﮫ ھﺎی\\n \\nﯾﺎزدھم\\n \\nو\\n \\nدوازدھم\\n \\nﻣﺣﺎﺳﺑﮫ\\n \\nو\\n \\nﺑﺎ\\n \\nﺳﮭم\\n \\nﺷﺻت\\n \\nدرﺻدی)ﺑﯾﺳت\\n \\nدرﺻد\\n \\nﭘﺎﯾﮫ\\n \\nﯾﺎزدھم\\n \\nو\\n \\nﭼﮭل\\n \\nدرﺻد\\n \\nﭘﺎﯾﮫ\\n \\nدوازدھم(\\n \\nو\\n \\nﺑﮫ\\n \\nﺻورت\\n \\nﻗطﻌﯽ\\n \\nاﻋﻣﺎل\\n \\nﻣﯽ ﺷود.\\n 4- ﺑر  اﺳﺎس  ﻣﺻوﺑﮫ  ﺟﻠﺳﮫ  33  ﺗﺎرﯾﺦ  12/09/1401  ﺷورای  ﺳﻧﺟش  و  ﭘذﯾرش  داﻧﺷﺟو،  ﺳﮭم  ﻧﻣره  ﮐل  \\nﺳﺎﺑﻘﮫ\\n \\nﺗﺣﺻﯾﻠﯽ\\n \\nﻗﺎﺑل \\n \\nﺟﺎﯾﮕزﯾﻧﯽ\\n \\nﺑﺎ\\n \\nآزﻣون\\n \\nاﺧﺗﺻﺎﺻﯽ)ﺳراﺳری(\\n \\nﻧﯾﺳت.\\n \\nﻟذا،\\n \\nﺗﻣﺎﻣﯽ\\n \\nداوطﻠﺑﺎن\\n \\nﻓﺎﻗد\\n \\nﺳﺎﺑﻘﮫ\\n \\nﺗﺣﺻﯾﻠﯽ\\n \\nﯾﺎ\\n \\nدارای\\n \\nﺳﺎﺑﻘﮫ\\n \\nﺗﺣﺻﯾﻠﯽ\\n \\nﻧﺎﻗص،\\n \\nﺑﺎﯾد\\n \\nﻧﺳﺑت\\n \\nﺑﮫ\\n \\nاﯾﺟﺎد\\n \\nﺳﺎﺑﻘﮫ\\n \\nﺗﺣﺻﯾﻠﯽ\\n \\nاز\\n \\nطرﯾق\\n \\nﺷرﮐت\\n \\nدر\\n \\nآزﻣون ھﺎی\\n \\nﻧﮭﺎﯾﯽ)ﻧظﺎم\\n \\n3\\n-\\n3\\n-\\n6\\n(\\n \\nﮐﮫ\\n \\nوزارت\\n \\nآﻣوزش\\n \\nو \\n \\nﭘرورش\\n \\nﺑرﮔزار\\n \\nﻣﯽ ﮐﻧد،\\n \\nاﻗدام\\n \\nﻧﻣﺎﯾﻧد.\\n \\nدر\\n \\nﻏﯾر\\n \\nاﯾن\\n \\nﺻورت،\\n \\nﺑرای\\n \\nھر\\n \\nدرس\\n \\nﮐﮫ\\n \\nﺳﺎﺑﻘﮫ\\n \\nﺗﺣﺻﯾﻠﯽ\\n \\nوﺟود\\n \\nﻧداﺷﺗﮫ\\n \\nﺑﺎﺷد،\\n \\nﻧﻣره\\n \\nﺧﺎم\\n \\nﺻﻔر\\n \\nﻟﺣﺎظ\\n \\nﻣﯽ ﺷود)اﯾن\\n \\nﻧﻣره\\n \\nﭘس\\n \\nاز\\n \\nﺗﺑدﯾل\\n \\nﺑﮫ\\n \\nﻧﻣره\\n \\nﺗراز\\n \\nدر\\n \\nﻧﻣره\\n \\nﮐل\\n \\nﺳﺎﺑﻘﮫ\\n \\nﺗﺣﺻﯾﻠﯽ\\n \\nﻣﺣﺎﺳﺑﮫ\\n \\nﺧواھد\\n \\nﺷد(. 5- ﺑراﺳﺎس  ﺑﻧد  2 - 2  ﻣﺻوﺑﮫ  ﺟﻠﺳﮫ  843  ﻣورخ  15/04/1400  ﺷورای   ﻋﺎﻟﯽ  اﻧﻘﻼب  ﻓرھﻧﮕﯽ،  ﻧﻣره  ﮐل  \\nﺳﺎﺑﻘﮫ\\n \\nﺗﺣﺻﯾﻠﯽ\\n \\nﻋﺑﺎرت\\n \\nاﺳت\\n \\nاز:\\n \\nﻣﯾﺎﻧﮕﯾن\\n \\nوزﻧﯽ\\n \\nﻧﻣرات\\n \\nﺗراز\\n \\nﺷده\\n \\nدروس\\n \\nﻋﻣوﻣﯽ\\n \\nو\\n \\nﺗﺧﺻﺻﯽ.\\n \\nﺑر\\n \\nاﯾن\\n \\n اﺳﺎس،\\n \\nدر\\n \\nﻣﺣﺎﺳﺑﮫ\\n \\nﻧﻣره\\n \\nﮐل\\n \\nﺳﺎﺑﻘﮫ\\n \\nﺗﺣﺻﯾﻠﯽ،\\n \\nﻧﻣره\\n \\nﺗراز\\n \\nﻣﻼک\\n \\nﻋﻣل\\n \\nاﺳت؛\\n \\nﻟذا،\\n \\nﻧﻣرات\\n \\nﺧﺎم\\n \\nآزﻣون\\n \\nاﺑﺗدا\\n \\nﺑﮫ\\n \\nﻧﻣرات\\n \\nﺗراز\\n \\nﺗﺑدﯾل\\n \\nو\\n \\nﺳﭘس\\n \\nﺑﺎ\\n \\nدر\\n \\nﻧظر\\n \\nﮔرﻓﺗن\\n \\nﺿراﯾب\\n \\nﻣﺻوب\\n \\nﺷورای\\n \\nﺳﻧﺟش\\n \\nو\\n \\nﭘذﯾرش\\n \\nداﻧﺷﺟو\\n \\nﺑﮫ\\n \\n ﺻورت\\n \\nﻧﻣره\\n \\nﮐل\\n \\nﺳﺎﺑﻘﮫ\\n \\nﺗﺣﺻﯾﻠﯽ\\n \\nﻣﺣﺎﺳﺑﮫ\\n \\nﻣﯽ ﺷوﻧد.\\n \\nدر\\n \\nﺧﺻوص\\n \\nﻧﻣرات\\n \\nﺗراز\\n \\nو\\n \\nﻧﻣره\\n \\nﮐل\\n \\nﺳﺎﺑﻘﮫ\\n \\nﺗﺣﺻﯾﻠﯽ\\n \\nﺗوﺟﮫ\\n \\nﺑﮫ\\n \\nﻣوارد\\n \\nزﯾر\\n \\nﺣﺎﺋز\\n \\nاھﻣﯾت\\n \\nاﺳت:\\n \\n4', metadata={'source': '/home/roshan/farhad/reg-base-dev/tarmim1.pdf', 'page': 3}),\n",
       " Document(page_content='5-1- ﻏﯾﺑت  در  آزﻣون  ﻧﮭﺎﯾﯽ  ﺧردادﻣﺎه)ﻣوﺟﮫ  ﯾﺎ  ﻏﯾرﻣوﺟﮫ(  ﺑرای  اﯾﺟﺎد  ﺳﺎﺑﻘﮫ  ﺗﺣﺻﯾﻠﯽ،  ﺑﮫ  ﻣﻧزﻟﮫ  \\nدرج\\n \\nﻧﻣره\\n \\nﺧﺎم\\n \\nﺻﻔر\\n \\nدر\\n \\nﻣﺣﺎﺳﺑﮫ\\n \\nﻧﻣره\\n \\nﮐل\\n \\nﺳﺎﺑﻘﮫ\\n \\nﺗﺣﺻﯾﻠﯽ\\n \\nاﺳت.\\n 5-2-در ھر  ﺳﺎل،  ﺑرای  ھر  داوطﻠب  ﭘﻧﺞ  ﻧﻣره  ﮐل  ﺑﮫ  ﺗﻔﮑﯾﮏ  ﭘﻧﺞ  ﮔروه  آزﻣﺎﯾﺷﯽ)ﻋﻠوم  رﯾﺎﺿﯽ  و  \\nﻓﻧﯽ،\\n \\nﻋﻠوم ﺗﺟرﺑﯽ،\\n \\nﻋﻠوم اﻧﺳﺎﻧﯽ،\\n \\nزﺑﺎن ھﺎی\\n \\nﺧﺎرﺟﯽ\\n \\nو\\n \\nھﻧر(\\n \\nﻣﺣﺎﺳﺑﮫ\\n \\nو\\n \\nاز\\n \\nﺑﯾن\\n \\nآن ھﺎ،\\n \\nﻧﻣره\\n \\nﮐل\\n \\nﻣرﺑوط\\n \\nﺑﮫ\\n \\nﮔروه\\n \\nﯾﺎ\\n \\nﮔروه ھﺎی\\n \\nآزﻣﺎﯾﺷﯽ\\n \\nاﻧﺗﺧﺎﺑﯽ\\n \\nداوطﻠب\\n \\nﻣﻼک\\n \\nﻋﻣل\\n \\nﻗرار\\n \\nﻣﯽ ﮔﯾرد.\\n 5-3-ﺗراز ﻧﻣره  ﮐل  ﺳﺎﺑﻘﮫ  ﺗﺣﺻﯾﻠﯽ  ﯾﮏ ﻣرﺗﺑﮫ  در  ھر  ﺳﺎل  اﻋﻼم  و  ﺻرﻓﺎً  ﺑرای  ﭘذﯾرش  در  ھﻣﺎن  \\nﺳﺎل\\n \\nﻣﻌﺗﺑر\\n \\nاﺳت\\n \\nو\\n \\nﺑرای\\n \\nﺳﺎل ھﺎی\\n \\nﺑﻌد\\n \\nﺑﺎﺗوﺟﮫ ﺑﮫ\\n \\nﺟﻣﻌﯾت\\n \\nداوطﻠﺑﺎن\\n و ﺿراﯾب ﺟدﯾد، ﻣﺟدداً  ﻣﺣﺎﺳﺑﮫ  \\nﺧواھد\\n \\nﺷد.\\n 5-4-ﺑر اﺳﺎس  ﺑﻧد  9 - 3  ﻣﺻوﺑﮫ  ﺟﻠﺳﮫ  33  ﺷورای  ﺳﻧﺟش  و  ﭘذﯾرش  ﺗراز  ھر  ﯾﮏ  از  دروس  \\nﺳواﺑق\\n \\nﺗﺣﺻﯾﻠﯽ،\\n \\nﺑﮫ \\n \\nﺻورت\\n \\nﻣﺟزا\\n \\nدر\\n \\nھر\\n \\nدرس\\n \\nو\\n \\nﺳﺎل\\n \\nﻣﺣﺎﺳﺑﮫ\\n \\nﻣﯽ ﺷود)ﺗراز\\n \\nﯾﮏ\\n \\nﻧﻣره\\n \\nﻣﻌﯾن،\\n \\nﻣﯽ ﺗواﻧد\\n \\nدر\\n \\nﺳﺎل ھﺎی\\n \\nﻣﺧﺗﻠف\\n \\nﻣﺗﻔﺎوت\\n \\nﺑﺎﺷد(.\\n \\nﺳﺎل\\n \\nﻣدﻧظر\\n \\nدر\\n \\nﻣﺣﺎﺳﺑﮫ\\n \\nﻧﻣره\\n \\nﺗراز،\\n \\nﺳﺎل\\n \\nاﺧذ\\n \\nآزﻣون\\n \\nﻣﯽ ﺑﺎﺷد\\n \\nو\\n \\nﺑﮫ\\n \\nﺳﺎل\\n \\nﻓﺎرغ اﻟﺗﺣﺻﯾﻠﯽ\\n \\nو\\n \\nﯾﺎ\\n \\nﻣؤﻟﻔﮫ ھﺎی\\n \\nدﯾﮕر\\n \\nارﺗﺑﺎطﯽ\\n \\nﻧدارد.\\n 5-5-ﺑرای داوطﻠﺑﺎﻧﯽ  ﮐﮫ  دارای  ﺑﯾش  از  ﯾﮏ  دﯾﭘﻠم  ﻣﯽ ﺑﺎﺷﻧد،  ﻧﻣره  ﮐل  ﺳﺎﺑﻘﮫ  ﺗﺣﺻﯾﻠﯽ ﺑﮫ ﺗﻔﮑﯾﮏ  \\nھرﯾﮏ\\n \\nاز\\n \\nدﯾﭘﻠم ھﺎ و ﺑراﺳﺎس  ﺑﯾﺷﺗرﯾن  ﻧﻣره  ﺗراز  دروس  ﻣؤﺛر  و  ﻣﻌﺗﺑر  ﻣﺣﺎﺳﺑﮫ  و ﺑﯾﺷﯾﻧﮫ  آن ھﺎ  \\nﺑﮫ ﻋﻧوان\\n \\nﻧﻣره\\n \\nﮐل\\n \\nﺳﺎﺑﻘﮫ\\n \\nﺗﺣﺻﯾﻠﯽ\\n \\nﻧﮭﺎﯾﯽ\\n \\nﻣﻼک\\n \\nﻋﻣل\\n \\nﻗرار\\n \\nﻣﯽ ﮔﯾرد. 5-6-ﺑرای ﻣﺣﺎﺳﺑﮫ  ﻧﻣرات  ﺗراز  ﻧﯾﺎز  ﺑﮫ  دردﺳت داﺷﺗن  ﺗﻣﺎﻣﯽ  ﻧﻣرات  ﺷرﮐت ﮐﻧﻧده  در  آزﻣون  \\nﻣﯽ ﺑﺎﺷد.\\n 5-7-ﻣﺷﻣوﻻن ﺗرﻣﯾم  ﺳﺎﺑﻘﮫ  ﺗﺣﺻﯾﻠﯽ،  ﺑﺎ  ھر  ﻧﻣره ای  اﻣﮑﺎن  ﺗرﻣﯾم  ﺳﺎﺑﻘﮫ  ﺗﺣﺻﯾﻠﯽ  در  ﺧردادﻣﺎه  را  \\nدارﻧد.\\n 6-ﻧﺣوه اﯾﺟﺎد  و  ﯾﺎ  ﺗرﻣﯾم  ﺳﺎﺑﻘﮫ  ﺗﺣﺻﯾﻠﯽ  ﺑرای  داوطﻠﺑﺎن  ورود  ﺑﮫ  داﻧﺷﮕﺎه  ﻓرھﻧﮕﯾﺎن  و  ﺷﮭﯾد  رﺟﺎﯾﯽ  ﻣﺷﺎﺑﮫ  \\nﻣﺗﻘﺎﺿﯾﺎن\\n \\nﭘذﯾرش\\n \\nدر\\n \\nرﺷﺗﮫ\\n \\nﻣﺣل ھﺎی\\n \\nﺑﺎ\\n \\nآزﻣون)ﻣوﺿوع\\n \\nﻣﺻوﺑﮫ\\n \\nﺟﻠﺳﮫ\\n \\n843\\n \\nﺷورای\\n \\n ﻋﺎﻟﯽ\\n \\nاﻧﻘﻼب \\n \\nﻓرھﻧﮕﯽ(\\n \\nاﺳت.\\n 7-ﻣدﯾر ﻣدرﺳﮫ  ﻣﺣل  ﺗﺣﺻﯾل  ﻣوظف  ﺑﮫ  ﺗﮑﻣﯾل،  ﺗﺄﯾﯾد  و  ﻧﮭﺎﯾﯽ  ﺳﺎزی  ﻓراﯾﻧد  ﺛﺑت ﻧﺎم  داﻧش آﻣوزان  ﻣﺗﻘﺎﺿﯽ  \\nاﯾﺟﺎد\\n \\nﯾﺎ\\n \\nﺗرﻣﯾم\\n \\nﺳﺎﺑﻘﮫ\\n \\nﺗﺣﺻﯾﻠﯽ،\\n \\nﺑﺎ\\n \\nرﻋﺎﯾت\\n \\nﺿواﺑط\\n \\nو\\n \\nﻣﻘررات\\n \\nﻣرﺑوط\\n \\nو\\n \\nﺟداول\\n \\nدروس\\n \\nﻣﯽ ﺑﺎﺷد.\\n 8-ﻣﺗﻘﺎﺿﯾﺎﻧﯽ ﮐﮫ  ﻓﺎرغ اﻟﺗﺣﺻﯾﻠﯽ  آن ھﺎ  در  ﺳﺎﻣﺎﻧﮫ  اﺣراز  ﻧﻣﯽ ﺷود،  ﻣﻠزم  ﺑﮫ  درﺧواﺳت  ﺻدور  ﺗﺄﯾﯾدﯾﮫ  \\nﺗﺣﺻﯾﻠﯽ\\n \\nﻣﯽ ﺑﺎﺷﻧد.\\n 9-ﺛﺑت ﻧﺎم  از  ﻣﺗﻘﺎﺿﯾﺎن  اﯾﺟﺎد  و  ﯾﺎ  ﺗرﻣﯾم  ﺳﺎﺑﻘﮫ  ﺗﺣﺻﯾﻠﯽ  ﺣداﮐﺛر  ﺗﺎ  2  ھﻔﺗﮫ  ﻗﺑل  از  ﺑرﮔزاری  آزﻣون ھﺎی  \\nﻧﮭﺎﯾﯽ\\n \\nﺧرداد\\n \\nو\\n \\nدر\\n \\nﺑﺎزه\\n \\nزﻣﺎﻧﯽ\\n \\nﺣداﮐﺛر\\n \\n10\\n \\nروزه\\n \\nاﻧﺟﺎم\\n \\nﻣﯽ ﺷود.\\n ﻣوﺿوع: اﺻﻼﺣﺎت  ﺷﯾوه  ﻧﺎﻣﮫ  اﺟراﯾﯽ  ﻧﺣوه  اﯾﺟﺎد  ﺳﺎﺑﻘﮫ  ﺗﺣﺻﯾﻠﯽ  و  ﺗرﻣﯾم  ﺳﺎﺑﻘﮫ  ﺗﺣﺻﯾﻠﯽ  آﻣون  ھﺎی  \\nﻧﮭﺎﯾﯽ\\n \\nدوره\\n \\nدوم\\n \\nﻣﺗوﺳطﮫ\\n \\nدر\\n \\nودوﻣﯾن ﺷﺻت\\n \\nﺟﻠﺳﮫ\\n \\nﮐﻣﯾﺳﯾون\\n \\nﻣﻌﯾن\\n \\nﺷورای\\n \\nﻋﺎﻟﯽ\\n \\nآﻣوزش\\n \\nو\\n \\nﭘرورش\\n \\nﺗﺎرﯾﺦ\\n \\n24/01/1404\\n \\nﺑﮫ\\n \\nﺗﺻوﯾب\\n \\nرﺳﯾد.\\n                      ﻣﺣﻣود  اﻣﺎﻧﯽ   \\n5', metadata={'source': '/home/roshan/farhad/reg-base-dev/tarmim1.pdf', 'page': 4}),\n",
       " Document(page_content='دﺑﯾرﮐل ﺷورای ﻋﺎﻟﯽ  آﻣوزش  و  ﭘرورش    اﺻﻼﺣﺎت ﺷﯾوه ﻧﺎﻣﮫ  اﺟراﯾﯽ  ﻧﺣوه  اﯾﺟﺎد  ﺳﺎﺑﻘﮫ  ﺗﺣﺻﯾﻠﯽ  و  ﺗرﻣﯾم  ﺳﺎﺑﻘﮫ  ﺗﺣﺻﯾﻠﯽ  آزﻣون  ھﺎی  ﻧﮭﺎﯾﯽ  دوره  \\nدوم\\n \\nﻣﺗوﺳطﮫ\\n \\nﻣورد\\n \\nﺗﺄﯾﯾد\\n \\nاﺳت،\\n \\nﺑﮫ\\n \\nﻣورد\\n \\nاﺟرا\\n \\nﮔذاﺷﺗﮫ\\n \\nﺷود.\\n            ﻋﻠﯾرﺿﺎ  ﮐﺎظﻣﯽ                  وزﯾر  آﻣوزش  و  ﭘرورش     \\n6', metadata={'source': '/home/roshan/farhad/reg-base-dev/tarmim1.pdf', 'page': 5})]"
      ]
     },
     "execution_count": 8,
     "metadata": {},
     "output_type": "execute_result"
    }
   ],
   "source": [
    "from langchain_community.document_loaders import PyPDFLoader\n",
    "\n",
    "\n",
    "loader = PyPDFLoader(\"...\")\n",
    "pages = loader.load_and_split()\n",
    "#pages = loader.load()\n",
    "pages"
   ]
  },
  {
   "cell_type": "code",
   "execution_count": 11,
   "metadata": {},
   "outputs": [
    {
     "data": {
      "text/plain": [
       "[Document(page_content='ﺑﺎﺳﻣﮫ ﺗﻌﺎﻟﯽ    اﺻﻼح ﻧﺎﻣﮫ ﺷﯾوه اﺟراﯾﯽ  ﻧﺣوه  اﯾﺟﺎد  و  ﺗرﻣﯾم  ﺳﺎﺑﻘﮫ  ﺗﺣﺻﯾﻠﯽ  ھﺎی آزﻣون  ﻧﮭﺎﯾﯽ  دوره  دوم  ﻣﺗوﺳطﮫ  ﻣﺻوب  \\nﭘﻧﺟﺎه وھﻔﺗﻣﯾن)\\n57\\n(\\n \\nﺟﻠﺳﮫ\\n \\nﮐﻣﯾﺳﯾون\\n \\nﻣﻌﯾن\\n \\nﺷورای ﻋﺎﻟﯽ\\n \\nآﻣوزش\\n \\nو\\n \\nﭘرورش\\n \\nﺗﺎرﯾﺦ\\n \\n27/9/1402\\n  ﺑﮫ اﺳﺗﻧﺎد  ﻣﺻوﺑﮫ  ﺟﻠﺳﮫ  1053  ﺗﺎرﯾﺦ  04/12/1403  ﻣوﺿوع  ﻋﻧﺎوﯾن  دروس  آزﻣون  ﻧﮭﺎﯾﯽ  دوره  دوم  \\nﻣﺗوﺳطﮫ\\n \\nو\\n \\nﭼﮕوﻧﮕﯽ\\n \\nﺗرﻣﯾم\\n \\nﺳﺎﺑﻘﮫ\\n \\nﺗﺣﺻﯾﻠﯽ\\n \\nﺳواﺑق\\n \\nﺗﺣﺻﯾﻠﯽ،\\n \\nﺷﯾوه ﻧﺎﻣﮫ\\n \\nاﺟراﯾﯽ\\n \\nﻧﺣوه\\n \\nاﯾﺟﺎد\\n \\nﺳﺎﺑﻘﮫ\\n \\nﺗﺣﺻﯾﻠﯽ\\n \\nو\\n \\nﺗرﻣﯾم\\n \\nﺳﺎﺑﻘﮫ\\n \\nﺗﺣﺻﯾﻠﯽ\\n \\nآزﻣون ھﺎی\\n \\nﻧﮭﺎﯾﯽ\\n \\nدوره\\n \\nدوم\\n \\nﻣﺗوﺳطﮫ)اﺻﻼﺣﯾﮫ\\n \\nﺷﯾوه ﻧﺎﻣﮫ\\n \\nﻣﺻوب\\n \\nﭘﻧﺟﺎه\\n \\nو\\n \\nھﻔﺗﻣﯾن\\n \\nﺟﻠﺳﮫ\\n \\nﮐﻣﯾﺳﯾون\\n \\nﻣﻌﯾن\\n \\nﺷورای\\n \\nﻋﺎﻟﯽ\\n \\nآﻣوزش\\n \\nو\\n \\nﭘرورش\\n \\nﺗﺎرﯾﺦ\\n \\n27/09/1402\\n(و\\n \\nﻣﺻوﺑﮫ\\n \\nﺟﻠﺳﮫ\\n \\n915\\n \\nﺷورای\\n \\nﻋﺎﻟﯽ\\n \\nاﻧﻘﻼب\\n \\nﻓرھﻧﮕﯽ\\n \\nﺗﺎرﯾﺦ.......\\n \\nﺑﮫ\\n \\nﺷرح\\n \\nزﯾر\\n \\nﺑﮫ\\n \\nﺗﺻوﯾب\\n \\nرﺳﯾد.\\n ﺗﻌﺎرﯾف(اﻟف ﺳﺎﺑﻘﮫ ﺗﺣﺻﯾﻠﯽ:  ﻣطﺎﺑق  ﻣﺎده١  ﻣﺻوﺑﮫ  ﺟﻠﺳﮫ  ٣۴٨  ﺗﺎرﯾﺦ  15/04/1400  ﺷورای  ﻋﺎﻟﯽ  اﻧﻘﻼب  ﻓرھﻧﮕﯽ،  \\nﺳﺎﺑﻘﮫ\\n \\nﺗﺣﺻﯾﻠﯽ\\n \\nﻋﺑﺎرت\\n \\nاﺳت\\n \\nاز؛\\n \\nﻧﻣرات\\n \\nدروس\\n \\nﻋﻣوﻣﯽ\\n \\nو\\n \\nﺗﺧﺻﺻﯽ\\n \\nدوره\\n \\nدوم\\n \\nﻣﺗوﺳطﮫ\\n \\nدر\\n \\nﻧظﺎم\\n \\nآﻣوزﺷﯽ\\n \\n3\\n-\\n3\\n-\\n3\\n-\\n3\\n \\nو\\n \\nدﯾﭘﻠم\\n \\nو\\n \\nﭘﯾش داﻧﺷﮕﺎھﯽ\\n \\nدر\\n \\nﻧظﺎم\\n \\nآﻣوزﺷﯽ\\n \\nﻗﺑﻠﯽ\\n \\nھر\\n \\nرﺷﺗﮫ\\n \\nﺗﺣﺻﯾﻠﯽ\\n \\nدوره\\n \\nﻣﺗوﺳطﮫ\\n \\nاﺳت\\n \\nﮐﮫ\\n \\nاﻣﺗﺣﺎﻧﺎت)آزﻣون ھﺎی(\\n \\nآن\\n \\nﻣطﺎﺑق\\n \\nاﺻول\\n \\nﺳﻧﺟش\\n \\nو\\n \\nاﻧدازه ﮔﯾری،\\n \\nﺑﮫ\\n \\nطور\\n \\nاﺳﺗﺎﻧدارد\\n \\nو\\n \\nﮐﯾﻔﯽ\\n \\nﺗوﺳط\\n \\nوزارت\\n \\nآﻣوزش\\n \\nو\\n \\nﭘرورش\\n \\nﺑﮫ\\n \\nﺻورت\\n \\nﺳراﺳری\\n \\nو\\n \\nﻧﮭﺎﯾﯽ)ﮐﺗﺑﯽ(\\n \\nدر\\n \\nﺳﻧوات\\n \\nﻣﺧﺗﻠف\\n \\nﻣطﺎﺑق\\n \\nﻣﺻوﺑﺎت\\n \\nﺷورای\\n \\nﻋﺎﻟﯽ\\n \\nآﻣوزش\\n \\nو\\n \\nﭘرورش\\n \\nﺑرﮔزار\\n \\nﺷده\\n \\nﺑﺎﺷد.\\n دوره :ﻣﺗوﺳطﮫ اﯾن  دوره  ﺷﺎﻣل  ﻧظﺎم ھﺎی  آﻣوزﺷﯽ  دوره  ﺷش ﺳﺎﻟﮫ  ﻣﺗوﺳطﮫ،  دوره  ﭼﮭﺎرﺳﺎﻟﮫ  ﻣﺗوﺳطﮫ،  \\nدوره\\n \\nﻣﺗوﺳطﮫ\\n \\nﺳﮫ ﺳﺎﻟﮫ\\n \\nﻧﯾم ﺳﺎﻟﯽ\\n \\nواﺣدی/\\n \\nﺳﺎﻟﯽ واﺣدی،\\n \\nدوره\\n \\nﭘﯾش داﻧﺷﮕﺎھﯽ\\n \\nﻧﯾم ﺳﺎﻟﯽ\\n \\nواﺣدی/\\n \\nﺳﺎﻟﯽ\\n \\nواﺣدی\\n \\nو\\n \\nدوره\\n \\nدوم\\n \\nﻣﺗوﺳطﮫ\\n \\nﻧظﺎم\\n \\n3\\n-\\n3\\n-\\n3\\n-\\n3\\n \\nﻣﯽ ﺑﺎﺷد\\n اﯾﺟﺎد ﺳﺎﺑﻘﮫ :ﺗﺣﺻﯾﻠﯽ  ﺷرﮐت  اﻓراد  واﺟد  ﺷراﯾط  و  ﻓﺎﻗد  ﺳﺎﺑﻘﮫ  ﺗﺣﺻﯾﻠﯽ  در  آزﻣون ھﺎی ﻧﮭﺎﯾﯽ ﻧوﺑت  \\nﺧردادﻣﺎه.\\n ﺗرﻣﯾم ﺳﺎﺑﻘﮫ :ﺗﺣﺻﯾﻠﯽ  ﺷرﮐت  ﻣﺟدد  اﻓراد  واﺟد  ﺷراﯾط  و  دارای  ﺳﺎﺑﻘﮫ  ﺗﺣﺻﯾﻠﯽ  در  ﻣﺟﻣوﻋﮫ   آزﻣون  \\nدروس\\n \\nﻧﮭﺎﯾﯽ)دارای\\n \\nﺳﺎﺑﻘﮫ(\\n \\nﯾﮏ ﭘﺎﯾﮫ.\\n دروس ﻣؤﺛر:  دروس  ﻧﮭﺎﯾﯽ  ﮐﮫ  ﺑر  اﺳﺎس  ﻧﺗﺎﯾﺞ  آﻧﮭﺎ  ﻧﻣره  ﮐل  ﺳﺎﺑﻘﮫ  ﺗﺣﺻﯾﻠﯽ  ﻣﺣﺎﺳﺑﮫ  ﻣﯽ ﺷود.  ﻧﻣره ﮐل ﺳﺎﺑﻘﮫ  :ﺗﺣﺻﯾﻠﯽ  ﺑراﺳﺎس  ﺑﻧد  2 - 2  ﻣﺻوﺑﮫ  ﺟﻠﺳﮫ  843  ﻣورخ  15/04/1400  ﺷورای  ﻋﺎﻟﯽ  \\nاﻧﻘﻼب\\n \\nﻓرھﻧﮕﯽ\\n \\nﻧﻣره\\n \\nﮐل\\n \\nﺳﺎﺑﻘﮫ\\n \\nﺗﺣﺻﯾﻠﯽ\\n \\nﻋﺑﺎرت\\n \\nاﺳت\\n \\nاز\\n \\nﻣﯾﺎﻧﮕﯾن\\n \\nﻧﻣره\\n \\nوزﻧﯽ\\n \\nﻧﻣرات\\n \\nﺗراز\\n \\nﺷده\\n \\nدروس\\n \\nﻋﻣوﻣﯽ\\n \\nو\\n \\nﺗﺧﺻﺻﯽ.\\n ھﺎی ﮔروه آزﻣﺎﯾﺷﯽ:  ﺗﻘﺳﯾم ﺑﻧدی  رﺷﺗﮫ ھﺎی  ﺗﺣﺻﯾﻠﯽ  آﻣوزش  ﻋﺎﻟﯽ  ﮐﮫ  ﺷﺎﻣل  ﭘﻧﺞ  ﮔروه:  ﻋﻠوم  رﯾﺎﺿﯽ  و  ﻓﻧﯽ،  \\nﻋﻠوم ﺗﺟرﺑﯽ\\n \\nو\\n \\nﻋﻠوم اﻧﺳﺎﻧﯽ)ﮔروه ھﺎی\\n \\nاﺻﻠﯽ(\\n \\nو\\n \\nزﺑﺎن ھﺎی\\n \\nﺧﺎرﺟﯽ\\n \\nو\\n \\nھﻧر)ﮔروه ھﺎی\\n \\nﻏﯾراﺻﻠﯽ(\\n \\nﻣﯽ ﺑﺎﺷﻧد.\\n (ب ﻣﺷﻣوﻻن اﯾﺟﺎد  ﺳﺎﺑﻘﮫ  :ﺗﺣﺻﯾﻠﯽ  داﻧش آﻣوزان ﺷﺎﺧﮫ  ﻧظری  ﺷﺎﻏل  ﺑﮫ  ﺗﺣﺻﯾل  در  ﭘﺎﯾﮫ ھﺎی  ﯾﺎزدھم  و  دوازدھم،  ﺑﺎ  ﺷرﮐت  در  آزﻣون ھﺎی  \\nﻧﮭﺎﯾﯽ\\n \\nﻧوﺑت\\n \\nﺧردادﻣﺎه،\\n \\nﺳﺎﺑﻘﮫ\\n \\nﺗﺣﺻﯾﻠﯽ\\n \\nﺑرای\\n \\nﮔروه\\n \\nآزﻣﺎﯾﺷﯽ\\n \\nﻣﺗﻧﺎظر\\n \\nﺑﺎ\\n \\nرﺷﺗﮫ\\n \\nﺗﺣﺻﯾﻠﯽ\\n \\nﺧود\\n \\nرا\\n \\nاﯾﺟﺎد\\n \\nﻣﯽ ﻧﻣﺎﯾﻧد.\\n \\nﺳﺎﯾر\\n \\nاﻓراد\\n \\nﮐﮫ\\n \\nﺳﺎﺑﻘﮫ\\n \\nﺗﺣﺻﯾﻠﯽ\\n \\nﻧدارﻧد،\\n \\nﻣﯽ ﺗواﻧﻧد\\n \\nﺻرﻓﺎً\\n \\nﺑرای\\n \\nدروس\\n \\nﻣؤﺛر\\n \\nﯾﮏ\\n \\nﮔروه\\n \\nآزﻣﺎﯾﺷﯽ\\n \\n1', metadata={'source': '/home/roshan/farhad/reg-base-dev/tarmim1.pdf', 'page': 0}),\n",
       " Document(page_content='اﺻﻠﯽ و  ﯾﺎ  ﯾﮏ  ﮔروه  آزﻣﺎﯾﺷﯽ  ﻏﯾراﺻﻠﯽ  ﺑر  اﺳﺎس  ﺟداول  ﻋﻧﺎوﯾن  و  ﺿراﯾب  دروس  ﺳواﺑق  ﺗﺣﺻﯾﻠﯽ\\n1 \\n و  \\nﺑﺎ\\n \\nرﻋﺎﯾت\\n \\nﻣوارد\\n \\nزﯾر\\n \\nاﯾﺟﺎد\\n \\nﺳﺎﺑﻘﮫ\\n \\nﻧﻣﺎﯾﻧد:\\n 1-داﻧش آﻣوزان ﭘﺎﯾﮫ  دوازدھم  در  ﺻورت  اﻧﺗﺧﺎب  ﮔروه  آزﻣﺎﯾﺷﯽ  ﻏﯾر  ﻣﺗﻧﺎظر  ﺑﺎ  رﺷﺗﮫ  ﺗﺣﺻﯾﻠﯽ  ﺧود،  \\nﻣﯽ ﺗواﻧﻧد\\n \\nدر\\n \\nدروس\\n \\nﻧﮭﺎﯾﯽ\\n \\nﭘﺎﯾﮫ ھﺎی\\n \\nﯾﺎزدھم\\n \\nو\\n \\nدوازدھم\\n \\nآن\\n \\nﮔروه\\n \\nآزﻣﺎﯾﺷﯽ\\n \\nاﯾﺟﺎد\\n \\nﺳﺎﺑﻘﮫ\\n \\nﮐﻧﻧد.\\n 2- در  ﺻورت  ﺗداﺧل  زﻣﺎﻧﯽ  آزﻣون  درس  اﻧﺗﺧﺎﺑﯽ  ﺑرای  اﯾﺟﺎد  ﺳﺎﺑﻘﮫ  ﺗﺣﺻﯾﻠﯽ  ﺑﺎ  آزﻣون  درس  رﺷﺗﮫ  \\nﺗﺣﺻﯾﻠﯽ،\\n \\nﻣﺗﻘﺎﺿﯽ\\n \\nﺑﺎﯾد\\n \\nدر\\n \\nآزﻣون\\n \\nدرس\\n \\nاﻧﺗﺧﺎﺑﯽ\\n \\nدر\\n \\nﺧردادﻣﺎه\\n \\nو\\n \\nآزﻣون\\n \\nدرس\\n \\nرﺷﺗﮫ\\n \\nﺗﺣﺻﯾﻠﯽ\\n \\nﺧود\\n \\nدر\\n \\nﺷﮭرﯾورﻣﺎه\\n \\nﺷرﮐت\\n \\nﻧﻣﺎﯾد)وﺿﻌﯾت\\n \\nاﯾن\\n \\nدرس\\n \\nدر\\n \\nﺧردادﻣﺎه،\\n \\nﺑﮫ ﻋﻧوان\\n \\nﻏﯾﺑت\\n \\nﻣوﺟﮫ\\n \\nﺛﺑت\\n \\nﻣﯽ ﺷود(.\\n 3- داﻧش آﻣوزان  ﻣدارس  ﺑزرﮔﺳﺎﻻن،  آﻣوزش  از  راه  دور،  اﯾﺛﺎرﮔران  و  داوطﻠب  آزاد  ﮐﮫ  در  آزﻣون  دروس  \\nﻧﮭﺎﯾﯽ\\n \\nﻧوﺑت\\n \\nدی\\n \\nو\\n \\nﺷﮭرﯾورﻣﺎه)ﻧﺎظر\\n \\nﺑﮫ\\n \\nﺑﻧد\\n \\n1\\n \\nﻗﺳﻣت\\n \\nت(\\n \\nﺷرﮐت\\n \\nﻧﻣوده اﻧد،\\n \\nﺑﮫ\\n \\nﺷرط\\n \\nﮐﺳب\\n \\nﺣد\\n \\nﻧﺻﺎب\\n \\nﻗﺑوﻟﯽ\\n \\nدر\\n \\nﻧوﺑت ھﺎی\\n \\nﻣذﮐور،\\n \\nﺑﺎﯾد\\n \\nدر\\n \\nﺧردادﻣﺎه،\\n \\nﺻرﻓﺎً\\n \\nدر\\n \\nآزﻣون\\n \\nاﯾﺟﺎد\\n \\nﺳﺎﺑﻘﮫ\\n \\nآن\\n \\nدروس\\n \\nﺷرﮐت\\n \\nﻧﻣﺎﯾﻧد.\\n 4- ھﻧرﺟوﯾﺎن  ﺷﺎﺧﮫ ھﺎی  ﻓﻧﯽ  و  ﺣرﻓﮫ ای  و  ﮐﺎرداﻧش  ﭘﺎﯾﮫ ھﺎی  ﯾﺎزدھم)ﺻرﻓﺎً  دروس  ﻧﮭﺎﯾﯽ  ﭘﺎﯾﮫ  ﯾﺎزدھم(  و  \\nدوازدھم\\n \\n)دروس\\n \\nﻧﮭﺎﯾﯽ\\n \\nﭘﺎﯾﮫ ھﺎی\\n \\nﯾﺎزدھم\\n \\nو\\n \\nدوازدھم(\\n \\nﻣﯽ ﺗواﻧﻧد\\n \\nدر\\n \\nﯾﮏ\\n \\nﮔروه\\n \\nآزﻣﺎﯾﺷﯽ\\n \\nاﺻﻠﯽ\\n \\nو\\n \\nﯾﺎ\\n \\nﯾﮏ\\n \\nﮔروه\\n \\nآزﻣﺎﯾﺷﯽ\\n \\nﻏﯾراﺻﻠﯽ\\n \\nﻣورد\\n \\nﺗﻘﺎﺿﺎ\\n \\nﺑرای\\n \\nاﯾﺟﺎد\\n \\nﺳﺎﺑﻘﮫ\\n \\nﺗﺣﺻﯾﻠﯽ\\n \\nﺷرﮐت\\n \\nﻧﻣﺎﯾﻧد.\\n 5- ﺗﻣﺎم  ﻓﺎرغ اﻟﺗﺣﺻﯾﻼن  ﺷﺎﺧﮫ  ﻧظری  دﯾﭘﻠم  ﻗﺑل  از  ﺳﺎل  1384  و  ﭘﯾش داﻧﺷﮕﺎھﯽ  ﻗﺑل  از  ﺳﺎل  1391 .  6-داﻧش آﻣوزان و  ﻓﺎرغ اﻟﺗﺣﺻﯾﻼﻧﯽ  ﮐﮫ  ﺳواﺑق  ﺗﺣﺻﯾﻠﯽ  آﻧﺎن  ﻣﻧﻘﺿﯽ  ﺷده  اﺳت.  ﺗﺑﺻره: ﺗﺎ  ﺳﺎل1405،  ﺳواﺑق  ﺗﺣﺻﯾﻠﯽ  ﺷﺎﻣل  ﻧﺗﺎﯾﺞ  آزﻣون ھﺎی  ﻧﮭﺎﯾﯽ  ﺧردادﻣﺎه  1384)دﯾﭘﻠم  و  \\nﺳﺎل\\n1391\\n \\n)ﭘﯾش داﻧﺷﮕﺎھﯽ\\n \\nو\\n \\nﭘس\\n \\nاز\\n \\nآن\\n \\nﻣﯽ ﺑﺎﺷد\\n \\nو\\n \\nدر\\n \\nﺳﺎل ھﺎی\\n \\nﺑﻌدی،\\n \\nزﻣﺎن\\n \\nاﻋﺗﺑﺎر\\n \\nﺳواﺑق\\n \\nﺗﺣﺻﯾﻠﯽ\\n \\nﺗوﺳط\\n \\nﮐﻣﯾﺳﯾون\\n \\nﻣﻌﯾن\\n \\nﺷورای\\n \\nﻋﺎﻟﯽ\\n \\nآﻣوزش\\n \\nو\\n \\nﭘرورش\\n \\nﻣﺷﺧص\\n \\nﻣﯽ ﺷود.\\n 7- ﻓﺎرغ اﻟﺗﺣﺻﯾﻼن  ﺷﺎﺧﮫ  ﻧظری  داوطﻠب  ﺷرﮐت  در  ﮔروه  آزﻣﺎﯾﺷﯽ  ﻏﯾر  ﻣﺗﻧﺎظر  ﺑﺎ  رﺷﺗﮫ  ﺗﺣﺻﯾﻠﯽ  ﺧود.  8- ﻓﺎرغ اﻟﺗﺣﺻﯾﻼن  ﺷﺎﺧﮫ ھﺎی  ﻓﻧﯽ  و  ﺣرﻓﮫ ای  و  ﮐﺎرداﻧش  دوره  ﻣﺗوﺳطﮫ.  9- ﻓﺎرغ اﻟﺗﺣﺻﯾﻼن  ﻣدارس  ﺑﯾن اﻟﻣﻠل  و  دارﻧدﮔﺎن  ﮔواھﯾﻧﺎﻣﮫ  ﻣﻌﺎدل  دوره  ﻣﺗوﺳطﮫ  و  ﭘﯾش داﻧﺷﮕﺎھﯽ  ﺻﺎدره  \\nاز\\n \\nﮐﻣﯾﺳﯾون\\n \\nارزﺷﯾﺎﺑﯽ\\n \\nﻣدارک\\n \\nﺗﺣﺻﯾﻠﯽ\\n \\nﺧﺎرﺟﯽ.\\n 10- طﻼب  ﺣوزه ھﺎی  ﻋﻠﻣﯾﮫ  ﮐﮫ  دارای  ﻣدرک  ﺳطﺢ  ﯾﮏ  ﺣوزوی  ﻣﯽ ﺑﺎﺷﻧد  ﺻرﻓﺎً  در  دروس  ﻣؤﺛر  ﮔروه  \\nآزﻣﺎﯾﺷﯽ\\n \\nﻋﻠوم اﻧﺳﺎﻧﯽ\\n2\\n.\\n 11- ﺳﺎﯾر  ﻓﺎرغ اﻟﺗﺣﺻﯾﻼن  و  داﻧش آﻣوزان  دوره  ﻣﺗوﺳطﮫ  ﻓﺎﻗد  ﺗﻣﺎم  ﯾﺎ  ﺑﺧﺷﯽ  از  ﺳواﺑق  ﺗﺣﺻﯾﻠﯽ.  (پ ﻣﺷﻣوﻻن ﺗرﻣﯾم  ﺳﺎﺑﻘﮫ  :ﺗﺣﺻﯾﻠﯽ   ﺗﻣﺎﻣﯽ اﻓرادی  ﮐﮫ  دارای  ﺳﺎﺑﻘﮫ  ﺗﺣﺻﯾﻠﯽ  ھﺳﺗﻧد؛  ازﺟﻣﻠﮫ  داﻧش آﻣوزان  و  ھﻧرﺟوﯾﺎن  ﭘﺎﯾﮫ  دوازدھم  و  \\nﻓﺎرغ اﻟﺗﺣﺻﯾﻼن\\n \\nﺷﺎﺧﮫ ھﺎی\\n \\nﻧظری،\\n \\nﻓﻧﯽ\\n \\nو\\n \\nﺣرﻓﮫ ای\\n \\nو\\n \\nﮐﺎرداﻧش\\n \\nﺻرﻓﺎً\\n \\nﺑرای\\n \\nدروس\\n \\nﻣؤﺛر\\n \\nﯾﮏ\\n \\nﮔروه\\n \\nآزﻣﺎﯾﺷﯽ\\n \\nاﺻﻠﯽ\\n \\nو\\n \\nﯾﺎ\\n \\nﯾﮏ\\n \\nﮔروه\\n \\nآزﻣﺎﯾﺷﯽ\\n \\nﻏﯾراﺻﻠﯽ\\n \\nﺑر\\n \\nاﺳﺎس\\n \\nﺟداول\\n \\nﻋﻧﺎوﯾن\\n \\nو\\n \\nﺿراﯾب\\n \\nدروس\\n \\nﺳواﺑق\\n \\nﺗﺣﺻﯾﻠﯽ.\\n \\n2\\n   \\nﺑﺮ\\n \\nاﺳﺎس\\n \\nﻣﺼﻮﺑات\\n \\nﺟﻠﺴﮫ\\n \\n548\\n \\nﻣﻮرخ\\n \\n28/07/1383\\n \\nو\\n \\nﺟﻠﺳﮫ\\n \\n368\\n \\nﻣورخ\\n \\n03/11/1374\\n \\nﺷورای\\n \\nﻋﺎﻟﻲ\\n \\nاﻧﻘﻼب\\n \\nﻓﺮھﻨﮕﻲ\\n \\nدرﺧﺻوص\\n \\nاداﻣﮫ\\n \\nﺗﺣﺻﯾل\\n \\nدارﻧدﮔﺎن\\n \\nﻣدارک\\n \\nﺗﺣﺻﯾﻠﯽ\\n \\nﺣوزوی\\n \\nدر\\n \\nداﻧﺷﮕﺎه ھﺎ،\\n \\nدارﻧدﮔﺎن\\n \\nﻣدارک\\n \\nﺣوزوی\\n \\nﻣﯽ ﺗواﻧﻧد\\n \\nﭘس\\n \\nاز\\n \\nﻗﺑوﻟﯽ\\n \\nدر\\n \\nآزﻣون\\n \\nﺳراﺳری\\n \\nدرﺗﻣﺎﻣﯽ\\n \\nرﺷﺗﮫ ھﺎی\\n \\nﻋﻠوم\\n \\nاﻧﺳﺎﻧﯽ\\n \\nدر\\n \\nداﻧﺷﮕﺎه ھﺎ\\n \\nاداﻣﮫ\\n \\nﺗﺣﺻﯾل\\n \\nدھﻧد.\\n \\n1\\n اﯾن ﺟداول  در  ﺻورت  ﻧﯾﺎز  ﺗوﺳط  ﻣﻌﺎوﻧت  آﻣوزش  ﻣﺗوﺳطﮫ/  ﻣرﮐز  ارزﺷﯾﺎﺑﯽ  و  ﺗﺿﻣﯾن  ﮐﯾﻔﯾت  ﻧظﺎم  آﻣوزش  و  ﭘرورش،  ﭘس  از  ﺗﺻوﯾب  در  ﺷورای  ﺳﻧﺟش  و  \\nﭘذﯾرش\\n \\nداﻧﺷﺟو\\n \\nاطﻼع رﺳﺎﻧﯽ\\n \\nﻣﯽ ﺷود.\\n \\n2', metadata={'source': '/home/roshan/farhad/reg-base-dev/tarmim1.pdf', 'page': 1}),\n",
       " Document(page_content='(ت ﺷراﯾط اﯾﺟﺎد  و  ﺗرﻣﯾم  ﺳﺎﺑﻘﮫ  ﺗﺣﺻﯾﻠﯽ  1-ﻣﺗﻘﺎﺿﯾﺎن ﻣﯽ ﺗواﻧﻧد  ﺑرای  اﯾﺟﺎد  ﺳﺎﺑﻘﮫ  ﺗﺣﺻﯾﻠﯽ  درس/دروس  ﻣوردﻧظر  ﺧود  را  ﺻرﻓﺎً  در  ﻧوﺑت  \\nﺧردادﻣﺎه\\n3\\n \\nاﻧﺗﺧﺎب\\n \\nو\\n \\nدر\\n \\nآزﻣون\\n \\nﻣرﺑوط\\n \\nﺷرﮐت\\n \\nﻧﻣﺎﯾﻧد.\\n 2-ﺗرﻣﯾم ﺳﺎﺑﻘﮫ  ﺗﺣﺻﯾﻠﯽ  ﺻرﻓﺎً  در  ﺻورت  ﺷرﮐت  در  ﻣﺟﻣوع  دروس  ﻣوﺛر  دارای  ﺳﺎﺑﻘﮫ  ھر  ﭘﺎﯾﮫ  در  ﯾﮏ  \\nﮔروه\\n \\nآزﻣﺎﯾﺷﯽ\\n \\nاﺻﻠﯽ\\n \\nو\\n \\nﯾﺎ\\n \\nﯾﮏ\\n \\nﮔروه\\n \\nآزﻣﺎﯾﺷﯽ\\n \\nﻏﯾراﺻﻠﯽ\\n ﺻرﻓﺎً در ﻧوﺑت  ﺧردادﻣﺎه  و  ﺑدون  ﻣﺣدودﯾت  از  \\nﻣﻧظر\\n \\nﺗﻌداد\\n \\nدﻓﻌﺎت\\n \\nﺷرﮐت\\n \\nدر\\n \\nآزﻣون\\n \\nاﻣﮑﺎن ﭘذﯾر\\n \\nاﺳت.\\n :ﺗﺑﺻره ﺻرﻓﺎً در  ﻧوﺑت  ﺧرداد  1404،  داوطﻠﺑﺎن  ﺗرﻣﯾم  ﺳﺎﺑﻘﮫ  ﺗﺣﺻﯾﻠﯽ  ﺑرای  اوﻟﯾن  ﻣرﺗﺑﮫ،  ﻣﺟﺎز  ﺑﮫ  \\nاﻧﺗﺧﺎب\\n \\nﺗﮏ\\n \\nدرس\\n \\nﻣﯽ\\n \\nﺑﺎﺷﻧد.\\n \\nﺑرای\\n \\nاﯾن\\n \\nﮔروه\\n \\nاز\\n \\nداوطﻠﺑﺎن\\n \\nﮐﮫ\\n \\nدر\\n \\nﯾﮏ\\n \\nدرس\\n \\nدارای\\n \\nﭼﻧد\\n \\nﻧﻣره\\n \\nﻣﯽ\\n \\nﺑﺎﺷﻧد،\\n \\nﺑﯾﺷﺗرﯾن\\n \\nﻧﻣره\\n \\nﺗراز\\n \\nھر\\n \\nدرس\\n \\nﺑرای\\n \\nﻣﺣﺎﺳﺑﮫ\\n \\nﻧﻣره\\n \\nﮐل\\n \\nﺳﺎﺑﻘﮫ\\n \\nﺗﺣﺻﯾﻠﯽ\\n \\nﻟﺣﺎظ\\n \\nﻣﯽ ﺷود. 3- ﺑرای  داوطﻠﺑﺎن  ﺗرﻣﯾم  ﺳﺎﺑﻘﮫ  ﺗﺣﺻﯾﻠﯽ،  در  ﺻورت  ﻋدم  ﺷرﮐت  و  ﻏﯾﺑت)ﻣوﺟﮫ  ﯾﺎ  ﻏﯾرﻣوﺟﮫ(  در  ﯾﮏ  ﯾﺎ  \\nﭼﻧد\\n \\nآزﻣون\\n \\nاﻧﺗﺧﺎب\\n \\nﺷده،\\n \\nﻧﻣرات\\n \\nﮐﺳب\\n \\nﺷده\\n \\nدر\\n \\nﺳﺎﯾر\\n \\nآزﻣون ھﺎی\\n \\nآن\\n \\nﻧوﺑت\\n \\nﻧﯾز\\n \\nﺑﮫ ﻋﻧوان\\n \\nﺳﺎﺑﻘﮫ\\n \\nﺗﺣﺻﯾﻠﯽ\\n \\nﻣﻧظور\\n \\nﻧﺧواھد\\n \\nﺷد)ﺳﺎﺑﻘﮫ\\n \\nﺗﺣﺻﯾﻠﯽ\\n \\nﻣﻌﺗﺑر\\n \\nﭘﯾﺷﯾن\\n \\nﻣﻼک\\n \\nﻋﻣل\\n \\nﻗرار\\n \\nﻣﯽ ﮔﯾرد(.\\n 4-ﻧﻣرات اﯾﺟﺎد  ﺳﺎﺑﻘﮫ  ﺗﺣﺻﯾﻠﯽ  و  ﺗرﻣﯾم  ﺳﺎﺑﻘﮫ  ﺗﺣﺻﯾﻠﯽ  ﺻرﻓﺎً  ﺑﮫ ﻋﻧوان  ﺳﺎﺑﻘﮫ  ﺗﺣﺻﯾﻠﯽ  اﻋﺗﺑﺎر  ﺧواھد  \\nداﺷت\\n \\nو\\n \\nدر\\n \\nﮐﺎرﻧﺎﻣﮫ\\n \\nﺗﺣﺻﯾﻠﯽ\\n \\nﻣﺗﻘﺎﺿﯽ\\n \\nﻣﻧظور\\n \\nﻧﻣﯽ ﺷود.\\n :ﺗﺑﺻره در  ﺻورت  ﺗﻘﺎﺿﺎی  ﮔواھﯽ  ﻧﻣرات  آزﻣون  ﺗرﻣﯾم  ﺳﺎﺑﻘﮫ  ﺗﺣﺻﯾﻠﯽ  ﺗوﺳط  ذی ﻧﻔﻌﺎن  ﺑرای  اراﺋﮫ  ﺑﮫ  \\nﻣراﮐز\\n \\nو\\n \\nﻣؤﺳﺳﺎت\\n \\nآﻣوزﺷﯽ\\n \\nﺧﺎرج\\n \\nاز\\n \\nﮐﺷور\\n \\nو\\n \\nارﺳﺎل\\n \\nدرﺧواﺳت\\n \\nاﯾﺷﺎن\\n \\nاز\\n \\nطرﯾق\\n \\nﻣرﮐز\\n \\nاﻣور\\n \\nﺑﯾن اﻟﻣﻠل\\n \\nو\\n \\nﻣدارس\\n \\nﺧﺎرج\\n \\nاز\\n \\nﮐﺷور،\\n \\nﺻدور\\n \\nﮔواھﯽ\\n \\nﻣذﮐور\\n \\nﺗوﺳط\\n \\nﻣرﮐز\\n \\nارزﺷﯾﺎﺑﯽ\\n \\nو\\n \\nﺗﺿﻣﯾن\\n \\nﮐﯾﻔﯾت\\n \\nﻧظﺎم\\n \\nآﻣوزش\\n \\nو\\n \\nﭘرورش\\n \\nﺑﻼﻣﺎﻧﻊ\\n \\nاﺳت. 5-ﻓراﯾﻧدھﺎی ﺛﺑت ﻧﺎم  و  اﻋﻼم  ﻧﺗﺎﯾﺞ  ﻗطﻌﯽ  آزﻣون ھﺎی  اﯾﺟﺎد  و  ﯾﺎ  ﺗرﻣﯾم  ﺳﺎﺑﻘﮫ  ﺗﺣﺻﯾﻠﯽ،  ﺑدون  ﻣراﺟﻌﮫ  \\nﺣﺿوری\\n \\nﺑﮫ\\n \\nﻣدرﺳﮫ\\n \\nو\\n \\nﺑﮫ ﺻورت\\n \\nاﻟﮑﺗروﻧﯾﮑﯽ\\n \\nاز\\n \\nطرﯾق\\n \\nﭘﻧﺟره\\n \\nواﺣد\\n \\nﺧدﻣﺎت\\n \\nاﻟﮑﺗروﻧﯾﮏ\\n \\nوزارت\\n \\nآﻣوزش وﭘرورش\\n \\nاﻧﺟﺎم\\n \\nﻣﯽ ﺷود)ﮔواھﯽ\\n \\nﯾﺎ\\n \\nﮐﺎرﻧﺎﻣﮫ ای\\n \\nﺑرای\\n \\nﺷرﮐت\\n \\nﮐﻧﻧدﮔﺎن\\n \\nﺻﺎدر\\n \\nﻧﺧواھد\\n \\nﺷد(.\\n ﺗﺑﺻره 1:  ﺑرای  داوطﻠﺑﺎن  ﻣﺷﻐول  ﺑﮫ  ﺗﺣﺻﯾل)داﻧش  آﻣوزان(  درﺧواﺳت  ﺛﺑت  ﺷده،  ﺗوﺳط  ﻣدﯾر  ﻣدرﺳﮫ  \\nﻣﺣل\\n \\nﺗﺣﺻﯾل\\n \\nﺗﮑﻣﯾل،\\n \\nﺗﺄﯾﯾد\\n \\nو\\n \\nﻧﮭﺎﯾﯽ\\n \\nﻣﯽ ﺷود.\\n \\n ﺗﺑﺻره 2:  ﺑرای  ھﻧرﺟوﯾﺎﻧﯽ  ﮐﮫ  در  آزﻣون  ﻧﮭﺎﯾﯽ  دروس  ﻣؤﺛر  در  ﮔروه  آزﻣﺎﯾﺷﯽ  ھﻧر  و  ﻣرﺑوط  ﺑﮫ  رﺷﺗﮫ  \\nﺗﺣﺻﯾﻠﯽ\\n \\nﺧود\\n \\nﺷرﮐت\\n \\nﻣﯽ ﮐﻧﻧد،\\n \\nﻧﻣرات\\n \\nﮐﺳب\\n \\nﺷده\\n \\nﻣﯽ ﺗواﻧد\\n \\nﺑﺎ\\n \\nدرﺧواﺳت\\n \\nذی ﻧﻔﻊ\\n \\nدر\\n \\nﮐﺎرﻧﺎﻣﮫ\\n \\nﺗﺣﺻﯾﻠﯽ\\n \\nﺛﺑت\\n \\n ﺷود.\\n ﺗﺑﺻره 3: ﻧﻣرات  ﺷرﮐت  ﮐﻧﻧدﮔﺎن  آزﻣون ھﺎی  ﻧﮭﺎﯾﯽ  در  ﺣوزه ھﺎی  ﺧﺎرج  از  ﮐﺷور  ﺑﮫ  ﺷرط  اﺣراز  ﺿواﺑط  \\nو\\n \\nﻣﻘررات\\n \\nﺗﺷﮑﯾل\\n \\nﻣرﮐز\\n \\nآزﻣون\\n \\nﻣطﺎﺑق\\n \\nﺷﯾوه\\n \\nﻧﺎﻣﮫ\\n \\nﻣرﺑوط،\\n \\nﺑﮫ\\n \\nﻋﻧوان\\n \\nﺳﺎﺑﻘﮫ\\n \\nﺗﺣﺻﯾﻠﯽ\\n \\nﺑﮫ\\n \\nﺳﺎزﻣﺎن\\n \\nﺳﻧﺟش\\n \\nآﻣوزش\\n \\nﮐﺷور\\n \\nارﺳﺎل\\n \\nﻣﯽ\\n \\nﺷود.\\n \\n3 \\nاز ﻧوﺑت  اﻣﺗﺣﺎﻧﯽ  ﺧردادﻣﺎه  ﺳﺎل1402  و  ﭘس  از  آن،  ﺳﺎﺑﻘﮫ  ﺗﺣﺻﯾﻠﯽ  ﺻرﻓﺎً  ﺷﺎﻣل  ﻧﺗﺎﯾﺞ  آزﻣون ھﺎی  ﻧوﺑت  ﺧردادﻣﺎه  ﻣﯽ ﺑﺎﺷد.  ﺑﮫ  ﻋﺑﺎرت  دﯾﮕر،  از  اﯾن  ﻧوﺑت  آزﻣوﻧﯽ  \\nﺑﮫ\\n \\nﺑﻌد،\\n \\nﻧﻣرات\\n \\nﮐﺳب\\n \\nﺷده\\n \\nدر\\n \\nﻧوﺑت ھﺎی\\n \\nﺷﮭرﯾور\\n \\nو\\n \\nدی ﻣﺎه\\n \\nﺑﮫ\\n \\nﻋﻧوان\\n \\nﺳﺎﺑﻘﮫ\\n \\nﺗﺣﺻﯾﻠﯽ\\n \\nﻟﺣﺎظ\\n \\nﻧﺧواھﻧد\\n \\nﺷد.\\n \\n3', metadata={'source': '/home/roshan/farhad/reg-base-dev/tarmim1.pdf', 'page': 2}),\n",
       " Document(page_content='ﺗﺑﺻره 4: ﺑرای  ﺗﺳﮭﯾل  ﺛﺑت ﻧﺎم  ﻣﺗﻘﺎﺿﯾﺎن  اﯾﺟﺎد  و  ﯾﺎ  ﺗرﻣﯾم  ﺳﺎﺑﻘﮫ  ﺗﺣﺻﯾﻠﯽ  در  ﺧﺎرج  از  ﮐﺷور،  ﻣرﮐز  اﻣور  \\nﺑﯾن\\n \\nاﻟﻣﻠل\\n \\nو\\n \\nﻣدارس\\n \\nﺧﺎرج\\n \\nاز\\n \\nﮐﺷور\\n \\nﻧﺳﺑت\\n \\nﺑﮫ\\n \\nاﺧذ\\n \\nﺗﻘﺎﺿﺎ\\n \\nاز\\n \\nﻣﺗﻘﺎﺿﯾﺎن\\n \\nﺑﮫ\\n \\nطرﯾق\\n \\nﻣﻘﺗﺿﯽ\\n \\nاﻗدام\\n \\nو\\n \\nدر\\n \\nﺑﺎزه\\n \\nزﻣﺎﻧﯽ\\n \\nاﻋﻼم\\n \\nﺷده\\n \\nﺑرای\\n \\nﺛﺑت\\n \\nﻧﺎم\\n \\nدر\\n \\nﺳﺎﻣﺎﻧﮫ\\n \\nﻣرﺑوط\\n \\nﺛﺑت\\n \\nﻣﯽ ﻧﻣﺎﯾد.\\n 6-ھزﯾﻧﮫ ﺷرﮐت  در  آزﻣون ھﺎی  ﻧﮭﺎﯾﯽ  ﺑرای  اﯾﺟﺎد  و  ﯾﺎ  ﺗرﻣﯾم  ﺳﺎﺑﻘﮫ  ﺗﺣﺻﯾﻠﯽ  ﺑﮫ  ﺗﻔﮑﯾﮏ  ھر  درس  و  ﻣطﺎﺑق  \\nﻣﺻوﺑﮫ\\n \\nھﯾﺋت\\n \\nوزﯾران\\n \\nاﺧذ\\n \\nﻣﯽ ﺷود.\\n (ث ﺳﺎﯾر ﺿواﺑط  و  ﻧﮑﺎت  :ﺗوﺟﮫ ﻗﺎﺑل  1- ﻧﺣوه  و  ﻣﯾزان  ﮐﺎرﺑرد  ﻧﺗﺎﯾﺞ  ھرﯾﮏ  از  ﺳواﻻت  آزﻣون ھﺎی  ﻧﮭﺎﯾﯽ  در  ﻓراﯾﻧدھﺎی  ﺗوﻟﯾد  ﺳﺎﺑﻘﮫ  ﺗﺣﺻﯾﻠﯽ  و  \\nﻋﻣﻠﮑرد\\n \\n)ﮐﺎرﻧﺎﻣﮫ(\\n \\nﺗﺣﺻﯾﻠﯽ\\n \\nﺗوﺳط\\n \\nﻣرﮐز\\n \\nارزﺷﯾﺎﺑﯽ\\n \\nو\\n \\nﺗﺿﻣﯾن\\n \\nﮐﯾﻔﯾت\\n \\nﻧظﺎم\\n \\nآﻣوزش و ﭘرورش\\n \\nﺗﻌﯾﯾن\\n \\nو\\n \\nاﻋﻣﺎل\\n \\nﻣﯽ ﺷود.\\n 2- داﻧش آﻣوزان  ﺷﺎﺧﮫ  ﻧظری  ﺷﺎﻏل  ﺑﮫ  ﺗﺣﺻﯾل  در  ﻣدارس  ﺑزرﮔﺳﺎﻻن،  آﻣوزش  از  راه  دور،  اﯾﺛﺎرﮔران  و  \\nداوطﻠﺑﺎن\\n \\nآزاد\\n \\nﻣﺟﺎزﻧد\\n \\nﺑدون\\n \\nﻧﯾﺎز\\n \\nﺑﮫ\\n \\nاﺧذ\\n \\nﻣﺟوز\\n \\nاز\\n \\nﮐﻣﯾﺳﯾون\\n \\nﺧﺎص\\n \\nﺗﻣﺎم\\n \\nدروس)ﻧﮭﺎﯾﯽ\\n \\nو\\n \\nﻏﯾر\\n \\nﻧﮭﺎﯾﯽ(\\n \\nرا\\n \\nﻣﻌﺎدل\\n \\nﺑﺎ\\n \\nﯾﮏ ﭘﺎﯾﮫ\\n \\nﺗﺣﺻﯾﻠﯽ\\n \\nﺑﺎ\\n \\nرﻋﺎﯾت\\n \\nﺗواﻟﯽ\\n \\nدروس\\n \\nدر\\n \\nﻧﯾم ﺳﺎل\\n \\nدوم\\n \\nﺳﺎل\\n \\nﺗﺣﺻﯾﻠﯽ\\n \\nاﻧﺗﺧﺎب\\n \\nو\\n \\nدر\\n \\nآزﻣون\\n \\nﺧردادﻣﺎه\\n \\nﺷرﮐت\\n \\nﻧﻣﺎﯾﻧد.\\n 3-  ﺑرای  ﭘذﯾرش  داوطﻠﺑﺎن  ورود  ﺑﮫ  ﻣراﮐز  و  ﻣوﺳﺳﺎت  آﻣوزش  ﻋﺎﻟﯽ  در  ﺳﺎل  ﺗﺣﺻﯾﻠﯽ  \\n1405\\n-\\n1404\\n)ﺧرداد\\n \\n1404\\n(،\\n \\nﺳواﺑق\\n \\nﺗﺣﺻﯾﻠﯽ\\n \\nﭘﺎﯾﮫ\\n \\nﯾﺎزدھم\\n \\nﺑﮫ\\n \\nﺻورت\\n \\nﻣﺛﺑت\\n \\nو\\n \\nﺳواﺑق\\n \\nﺗﺣﺻﯾﻠﯽ\\n \\nﭘﺎﯾﮫ\\n \\nدوازدھم\\n \\nﺑﮫ\\n \\nﺻورت\\n \\nﻗطﻌﯽ\\n \\nاﻋﻣﺎل\\n \\nﻣﯽ\\n \\nﺷود؛\\n \\nﻟذا،\\n \\nﺻرﻓﺎً\\n \\nﺑرای\\n \\nاﯾن\\n \\nﺳﺎل،\\n \\nﻧﻣره\\n \\nﮐل\\n \\nﺳﺎﺑﻘﮫ\\n \\nﺗﺣﺻﯾﻠﯽ\\n \\nﺑراﺳﺎس\\n \\nدو\\n \\nﻣﺟﻣوﻋﮫ\\n \\nﺿراﯾب)ﻣﺟﻣوع\\n \\nﭘﺎﯾﮫ ھﺎی\\n \\nﯾﺎزدھم\\n \\nو\\n \\nدوازدھم\\n \\n/\\n \\nدوازدھم(\\n \\nﻣﺣﺎﺳﺑﮫ\\n \\nو\\n \\nﺑﯾﺷﺗرﯾن\\n \\nﻧﻣره\\n \\nﮐل\\n \\nﺑﺎ\\n \\nﺳﮭم\\n \\nﺷﺻت\\n \\nدرﺻدی\\n \\nدر\\n \\nﭘذﯾرش\\n \\nداوطﻠﺑﺎن\\n \\nورود\\n \\nﺑﮫ\\n \\nرﺷﺗﮫ\\n \\nﻣﺣل ھﺎی\\n \\nﭘرﻣﺗﻘﺎﺿﯽ\\n \\nاﻋﻣﺎل\\n \\nﻣﯽ ﺷود.\\n \\nﺑرای\\n \\nﭘذﯾرش\\n \\nدر\\n \\nﺳﺎل\\n \\nﺗﺣﺻﯾﻠﯽ\\n \\n1406\\n-\\n1405\\n)ﺧرداد\\n \\n1405\\n(\\n \\nو\\n \\nﭘس\\n \\nاز\\n \\nآن،\\n \\nﻧﻣره\\n \\nﮐل\\n \\nﺳﺎﺑﻘﮫ\\n \\nﺗﺣﺻﯾﻠﯽ\\n \\nﺑﺎ\\n \\nﺗرﮐﯾب\\n \\nﻣﺟﻣوع\\n \\nﻧﺗﺎﯾﺞ\\n \\nﺳواﺑق\\n \\nﭘﺎﯾﮫ ھﺎی\\n \\nﯾﺎزدھم\\n \\nو\\n \\nدوازدھم\\n \\nﻣﺣﺎﺳﺑﮫ\\n \\nو\\n \\nﺑﺎ\\n \\nﺳﮭم\\n \\nﺷﺻت\\n \\nدرﺻدی)ﺑﯾﺳت\\n \\nدرﺻد\\n \\nﭘﺎﯾﮫ\\n \\nﯾﺎزدھم\\n \\nو\\n \\nﭼﮭل\\n \\nدرﺻد\\n \\nﭘﺎﯾﮫ\\n \\nدوازدھم(\\n \\nو\\n \\nﺑﮫ\\n \\nﺻورت\\n \\nﻗطﻌﯽ\\n \\nاﻋﻣﺎل\\n \\nﻣﯽ ﺷود.\\n 4- ﺑر  اﺳﺎس  ﻣﺻوﺑﮫ  ﺟﻠﺳﮫ  33  ﺗﺎرﯾﺦ  12/09/1401  ﺷورای  ﺳﻧﺟش  و  ﭘذﯾرش  داﻧﺷﺟو،  ﺳﮭم  ﻧﻣره  ﮐل  \\nﺳﺎﺑﻘﮫ\\n \\nﺗﺣﺻﯾﻠﯽ\\n \\nﻗﺎﺑل \\n \\nﺟﺎﯾﮕزﯾﻧﯽ\\n \\nﺑﺎ\\n \\nآزﻣون\\n \\nاﺧﺗﺻﺎﺻﯽ)ﺳراﺳری(\\n \\nﻧﯾﺳت.\\n \\nﻟذا،\\n \\nﺗﻣﺎﻣﯽ\\n \\nداوطﻠﺑﺎن\\n \\nﻓﺎﻗد\\n \\nﺳﺎﺑﻘﮫ\\n \\nﺗﺣﺻﯾﻠﯽ\\n \\nﯾﺎ\\n \\nدارای\\n \\nﺳﺎﺑﻘﮫ\\n \\nﺗﺣﺻﯾﻠﯽ\\n \\nﻧﺎﻗص،\\n \\nﺑﺎﯾد\\n \\nﻧﺳﺑت\\n \\nﺑﮫ\\n \\nاﯾﺟﺎد\\n \\nﺳﺎﺑﻘﮫ\\n \\nﺗﺣﺻﯾﻠﯽ\\n \\nاز\\n \\nطرﯾق\\n \\nﺷرﮐت\\n \\nدر\\n \\nآزﻣون ھﺎی\\n \\nﻧﮭﺎﯾﯽ)ﻧظﺎم\\n \\n3\\n-\\n3\\n-\\n6\\n(\\n \\nﮐﮫ\\n \\nوزارت\\n \\nآﻣوزش\\n \\nو \\n \\nﭘرورش\\n \\nﺑرﮔزار\\n \\nﻣﯽ ﮐﻧد،\\n \\nاﻗدام\\n \\nﻧﻣﺎﯾﻧد.\\n \\nدر\\n \\nﻏﯾر\\n \\nاﯾن\\n \\nﺻورت،\\n \\nﺑرای\\n \\nھر\\n \\nدرس\\n \\nﮐﮫ\\n \\nﺳﺎﺑﻘﮫ\\n \\nﺗﺣﺻﯾﻠﯽ\\n \\nوﺟود\\n \\nﻧداﺷﺗﮫ\\n \\nﺑﺎﺷد،\\n \\nﻧﻣره\\n \\nﺧﺎم\\n \\nﺻﻔر\\n \\nﻟﺣﺎظ\\n \\nﻣﯽ ﺷود)اﯾن\\n \\nﻧﻣره\\n \\nﭘس\\n \\nاز\\n \\nﺗﺑدﯾل\\n \\nﺑﮫ\\n \\nﻧﻣره\\n \\nﺗراز\\n \\nدر\\n \\nﻧﻣره\\n \\nﮐل\\n \\nﺳﺎﺑﻘﮫ\\n \\nﺗﺣﺻﯾﻠﯽ\\n \\nﻣﺣﺎﺳﺑﮫ\\n \\nﺧواھد\\n \\nﺷد(. 5- ﺑراﺳﺎس  ﺑﻧد  2 - 2  ﻣﺻوﺑﮫ  ﺟﻠﺳﮫ  843  ﻣورخ  15/04/1400  ﺷورای   ﻋﺎﻟﯽ  اﻧﻘﻼب  ﻓرھﻧﮕﯽ،  ﻧﻣره  ﮐل  \\nﺳﺎﺑﻘﮫ\\n \\nﺗﺣﺻﯾﻠﯽ\\n \\nﻋﺑﺎرت\\n \\nاﺳت\\n \\nاز:\\n \\nﻣﯾﺎﻧﮕﯾن\\n \\nوزﻧﯽ\\n \\nﻧﻣرات\\n \\nﺗراز\\n \\nﺷده\\n \\nدروس\\n \\nﻋﻣوﻣﯽ\\n \\nو\\n \\nﺗﺧﺻﺻﯽ.\\n \\nﺑر\\n \\nاﯾن\\n \\n اﺳﺎس،\\n \\nدر\\n \\nﻣﺣﺎﺳﺑﮫ\\n \\nﻧﻣره\\n \\nﮐل\\n \\nﺳﺎﺑﻘﮫ\\n \\nﺗﺣﺻﯾﻠﯽ،\\n \\nﻧﻣره\\n \\nﺗراز\\n \\nﻣﻼک\\n \\nﻋﻣل\\n \\nاﺳت؛\\n \\nﻟذا،\\n \\nﻧﻣرات\\n \\nﺧﺎم\\n \\nآزﻣون\\n \\nاﺑﺗدا\\n \\nﺑﮫ\\n \\nﻧﻣرات\\n \\nﺗراز\\n \\nﺗﺑدﯾل\\n \\nو\\n \\nﺳﭘس\\n \\nﺑﺎ\\n \\nدر\\n \\nﻧظر\\n \\nﮔرﻓﺗن\\n \\nﺿراﯾب\\n \\nﻣﺻوب\\n \\nﺷورای\\n \\nﺳﻧﺟش\\n \\nو\\n \\nﭘذﯾرش\\n \\nداﻧﺷﺟو\\n \\nﺑﮫ\\n \\n ﺻورت\\n \\nﻧﻣره\\n \\nﮐل\\n \\nﺳﺎﺑﻘﮫ\\n \\nﺗﺣﺻﯾﻠﯽ\\n \\nﻣﺣﺎﺳﺑﮫ\\n \\nﻣﯽ ﺷوﻧد.\\n \\nدر\\n \\nﺧﺻوص\\n \\nﻧﻣرات\\n \\nﺗراز\\n \\nو\\n \\nﻧﻣره\\n \\nﮐل\\n \\nﺳﺎﺑﻘﮫ\\n \\nﺗﺣﺻﯾﻠﯽ\\n \\nﺗوﺟﮫ\\n \\nﺑﮫ\\n \\nﻣوارد\\n \\nزﯾر\\n \\nﺣﺎﺋز\\n \\nاھﻣﯾت\\n \\nاﺳت:\\n \\n4', metadata={'source': '/home/roshan/farhad/reg-base-dev/tarmim1.pdf', 'page': 3}),\n",
       " Document(page_content='5-1- ﻏﯾﺑت  در  آزﻣون  ﻧﮭﺎﯾﯽ  ﺧردادﻣﺎه)ﻣوﺟﮫ  ﯾﺎ  ﻏﯾرﻣوﺟﮫ(  ﺑرای  اﯾﺟﺎد  ﺳﺎﺑﻘﮫ  ﺗﺣﺻﯾﻠﯽ،  ﺑﮫ  ﻣﻧزﻟﮫ  \\nدرج\\n \\nﻧﻣره\\n \\nﺧﺎم\\n \\nﺻﻔر\\n \\nدر\\n \\nﻣﺣﺎﺳﺑﮫ\\n \\nﻧﻣره\\n \\nﮐل\\n \\nﺳﺎﺑﻘﮫ\\n \\nﺗﺣﺻﯾﻠﯽ\\n \\nاﺳت.\\n 5-2-در ھر  ﺳﺎل،  ﺑرای  ھر  داوطﻠب  ﭘﻧﺞ  ﻧﻣره  ﮐل  ﺑﮫ  ﺗﻔﮑﯾﮏ  ﭘﻧﺞ  ﮔروه  آزﻣﺎﯾﺷﯽ)ﻋﻠوم  رﯾﺎﺿﯽ  و  \\nﻓﻧﯽ،\\n \\nﻋﻠوم ﺗﺟرﺑﯽ،\\n \\nﻋﻠوم اﻧﺳﺎﻧﯽ،\\n \\nزﺑﺎن ھﺎی\\n \\nﺧﺎرﺟﯽ\\n \\nو\\n \\nھﻧر(\\n \\nﻣﺣﺎﺳﺑﮫ\\n \\nو\\n \\nاز\\n \\nﺑﯾن\\n \\nآن ھﺎ،\\n \\nﻧﻣره\\n \\nﮐل\\n \\nﻣرﺑوط\\n \\nﺑﮫ\\n \\nﮔروه\\n \\nﯾﺎ\\n \\nﮔروه ھﺎی\\n \\nآزﻣﺎﯾﺷﯽ\\n \\nاﻧﺗﺧﺎﺑﯽ\\n \\nداوطﻠب\\n \\nﻣﻼک\\n \\nﻋﻣل\\n \\nﻗرار\\n \\nﻣﯽ ﮔﯾرد.\\n 5-3-ﺗراز ﻧﻣره  ﮐل  ﺳﺎﺑﻘﮫ  ﺗﺣﺻﯾﻠﯽ  ﯾﮏ ﻣرﺗﺑﮫ  در  ھر  ﺳﺎل  اﻋﻼم  و  ﺻرﻓﺎً  ﺑرای  ﭘذﯾرش  در  ھﻣﺎن  \\nﺳﺎل\\n \\nﻣﻌﺗﺑر\\n \\nاﺳت\\n \\nو\\n \\nﺑرای\\n \\nﺳﺎل ھﺎی\\n \\nﺑﻌد\\n \\nﺑﺎﺗوﺟﮫ ﺑﮫ\\n \\nﺟﻣﻌﯾت\\n \\nداوطﻠﺑﺎن\\n و ﺿراﯾب ﺟدﯾد، ﻣﺟدداً  ﻣﺣﺎﺳﺑﮫ  \\nﺧواھد\\n \\nﺷد.\\n 5-4-ﺑر اﺳﺎس  ﺑﻧد  9 - 3  ﻣﺻوﺑﮫ  ﺟﻠﺳﮫ  33  ﺷورای  ﺳﻧﺟش  و  ﭘذﯾرش  ﺗراز  ھر  ﯾﮏ  از  دروس  \\nﺳواﺑق\\n \\nﺗﺣﺻﯾﻠﯽ،\\n \\nﺑﮫ \\n \\nﺻورت\\n \\nﻣﺟزا\\n \\nدر\\n \\nھر\\n \\nدرس\\n \\nو\\n \\nﺳﺎل\\n \\nﻣﺣﺎﺳﺑﮫ\\n \\nﻣﯽ ﺷود)ﺗراز\\n \\nﯾﮏ\\n \\nﻧﻣره\\n \\nﻣﻌﯾن،\\n \\nﻣﯽ ﺗواﻧد\\n \\nدر\\n \\nﺳﺎل ھﺎی\\n \\nﻣﺧﺗﻠف\\n \\nﻣﺗﻔﺎوت\\n \\nﺑﺎﺷد(.\\n \\nﺳﺎل\\n \\nﻣدﻧظر\\n \\nدر\\n \\nﻣﺣﺎﺳﺑﮫ\\n \\nﻧﻣره\\n \\nﺗراز،\\n \\nﺳﺎل\\n \\nاﺧذ\\n \\nآزﻣون\\n \\nﻣﯽ ﺑﺎﺷد\\n \\nو\\n \\nﺑﮫ\\n \\nﺳﺎل\\n \\nﻓﺎرغ اﻟﺗﺣﺻﯾﻠﯽ\\n \\nو\\n \\nﯾﺎ\\n \\nﻣؤﻟﻔﮫ ھﺎی\\n \\nدﯾﮕر\\n \\nارﺗﺑﺎطﯽ\\n \\nﻧدارد.\\n 5-5-ﺑرای داوطﻠﺑﺎﻧﯽ  ﮐﮫ  دارای  ﺑﯾش  از  ﯾﮏ  دﯾﭘﻠم  ﻣﯽ ﺑﺎﺷﻧد،  ﻧﻣره  ﮐل  ﺳﺎﺑﻘﮫ  ﺗﺣﺻﯾﻠﯽ ﺑﮫ ﺗﻔﮑﯾﮏ  \\nھرﯾﮏ\\n \\nاز\\n \\nدﯾﭘﻠم ھﺎ و ﺑراﺳﺎس  ﺑﯾﺷﺗرﯾن  ﻧﻣره  ﺗراز  دروس  ﻣؤﺛر  و  ﻣﻌﺗﺑر  ﻣﺣﺎﺳﺑﮫ  و ﺑﯾﺷﯾﻧﮫ  آن ھﺎ  \\nﺑﮫ ﻋﻧوان\\n \\nﻧﻣره\\n \\nﮐل\\n \\nﺳﺎﺑﻘﮫ\\n \\nﺗﺣﺻﯾﻠﯽ\\n \\nﻧﮭﺎﯾﯽ\\n \\nﻣﻼک\\n \\nﻋﻣل\\n \\nﻗرار\\n \\nﻣﯽ ﮔﯾرد. 5-6-ﺑرای ﻣﺣﺎﺳﺑﮫ  ﻧﻣرات  ﺗراز  ﻧﯾﺎز  ﺑﮫ  دردﺳت داﺷﺗن  ﺗﻣﺎﻣﯽ  ﻧﻣرات  ﺷرﮐت ﮐﻧﻧده  در  آزﻣون  \\nﻣﯽ ﺑﺎﺷد.\\n 5-7-ﻣﺷﻣوﻻن ﺗرﻣﯾم  ﺳﺎﺑﻘﮫ  ﺗﺣﺻﯾﻠﯽ،  ﺑﺎ  ھر  ﻧﻣره ای  اﻣﮑﺎن  ﺗرﻣﯾم  ﺳﺎﺑﻘﮫ  ﺗﺣﺻﯾﻠﯽ  در  ﺧردادﻣﺎه  را  \\nدارﻧد.\\n 6-ﻧﺣوه اﯾﺟﺎد  و  ﯾﺎ  ﺗرﻣﯾم  ﺳﺎﺑﻘﮫ  ﺗﺣﺻﯾﻠﯽ  ﺑرای  داوطﻠﺑﺎن  ورود  ﺑﮫ  داﻧﺷﮕﺎه  ﻓرھﻧﮕﯾﺎن  و  ﺷﮭﯾد  رﺟﺎﯾﯽ  ﻣﺷﺎﺑﮫ  \\nﻣﺗﻘﺎﺿﯾﺎن\\n \\nﭘذﯾرش\\n \\nدر\\n \\nرﺷﺗﮫ\\n \\nﻣﺣل ھﺎی\\n \\nﺑﺎ\\n \\nآزﻣون)ﻣوﺿوع\\n \\nﻣﺻوﺑﮫ\\n \\nﺟﻠﺳﮫ\\n \\n843\\n \\nﺷورای\\n \\n ﻋﺎﻟﯽ\\n \\nاﻧﻘﻼب \\n \\nﻓرھﻧﮕﯽ(\\n \\nاﺳت.\\n 7-ﻣدﯾر ﻣدرﺳﮫ  ﻣﺣل  ﺗﺣﺻﯾل  ﻣوظف  ﺑﮫ  ﺗﮑﻣﯾل،  ﺗﺄﯾﯾد  و  ﻧﮭﺎﯾﯽ  ﺳﺎزی  ﻓراﯾﻧد  ﺛﺑت ﻧﺎم  داﻧش آﻣوزان  ﻣﺗﻘﺎﺿﯽ  \\nاﯾﺟﺎد\\n \\nﯾﺎ\\n \\nﺗرﻣﯾم\\n \\nﺳﺎﺑﻘﮫ\\n \\nﺗﺣﺻﯾﻠﯽ،\\n \\nﺑﺎ\\n \\nرﻋﺎﯾت\\n \\nﺿواﺑط\\n \\nو\\n \\nﻣﻘررات\\n \\nﻣرﺑوط\\n \\nو\\n \\nﺟداول\\n \\nدروس\\n \\nﻣﯽ ﺑﺎﺷد.\\n 8-ﻣﺗﻘﺎﺿﯾﺎﻧﯽ ﮐﮫ  ﻓﺎرغ اﻟﺗﺣﺻﯾﻠﯽ  آن ھﺎ  در  ﺳﺎﻣﺎﻧﮫ  اﺣراز  ﻧﻣﯽ ﺷود،  ﻣﻠزم  ﺑﮫ  درﺧواﺳت  ﺻدور  ﺗﺄﯾﯾدﯾﮫ  \\nﺗﺣﺻﯾﻠﯽ\\n \\nﻣﯽ ﺑﺎﺷﻧد.\\n 9-ﺛﺑت ﻧﺎم  از  ﻣﺗﻘﺎﺿﯾﺎن  اﯾﺟﺎد  و  ﯾﺎ  ﺗرﻣﯾم  ﺳﺎﺑﻘﮫ  ﺗﺣﺻﯾﻠﯽ  ﺣداﮐﺛر  ﺗﺎ  2  ھﻔﺗﮫ  ﻗﺑل  از  ﺑرﮔزاری  آزﻣون ھﺎی  \\nﻧﮭﺎﯾﯽ\\n \\nﺧرداد\\n \\nو\\n \\nدر\\n \\nﺑﺎزه\\n \\nزﻣﺎﻧﯽ\\n \\nﺣداﮐﺛر\\n \\n10\\n \\nروزه\\n \\nاﻧﺟﺎم\\n \\nﻣﯽ ﺷود.\\n ﻣوﺿوع: اﺻﻼﺣﺎت  ﺷﯾوه  ﻧﺎﻣﮫ  اﺟراﯾﯽ  ﻧﺣوه  اﯾﺟﺎد  ﺳﺎﺑﻘﮫ  ﺗﺣﺻﯾﻠﯽ  و  ﺗرﻣﯾم  ﺳﺎﺑﻘﮫ  ﺗﺣﺻﯾﻠﯽ  آﻣون  ھﺎی  \\nﻧﮭﺎﯾﯽ\\n \\nدوره\\n \\nدوم\\n \\nﻣﺗوﺳطﮫ\\n \\nدر\\n \\nودوﻣﯾن ﺷﺻت\\n \\nﺟﻠﺳﮫ\\n \\nﮐﻣﯾﺳﯾون\\n \\nﻣﻌﯾن\\n \\nﺷورای\\n \\nﻋﺎﻟﯽ\\n \\nآﻣوزش\\n \\nو\\n \\nﭘرورش\\n \\nﺗﺎرﯾﺦ\\n \\n24/01/1404\\n \\nﺑﮫ\\n \\nﺗﺻوﯾب\\n \\nرﺳﯾد.\\n                      ﻣﺣﻣود  اﻣﺎﻧﯽ   \\n5', metadata={'source': '/home/roshan/farhad/reg-base-dev/tarmim1.pdf', 'page': 4}),\n",
       " Document(page_content='دﺑﯾرﮐل ﺷورای ﻋﺎﻟﯽ  آﻣوزش  و  ﭘرورش    اﺻﻼﺣﺎت ﺷﯾوه ﻧﺎﻣﮫ  اﺟراﯾﯽ  ﻧﺣوه  اﯾﺟﺎد  ﺳﺎﺑﻘﮫ  ﺗﺣﺻﯾﻠﯽ  و  ﺗرﻣﯾم  ﺳﺎﺑﻘﮫ  ﺗﺣﺻﯾﻠﯽ  آزﻣون  ھﺎی  ﻧﮭﺎﯾﯽ  دوره  \\nدوم\\n \\nﻣﺗوﺳطﮫ\\n \\nﻣورد\\n \\nﺗﺄﯾﯾد\\n \\nاﺳت،\\n \\nﺑﮫ\\n \\nﻣورد\\n \\nاﺟرا\\n \\nﮔذاﺷﺗﮫ\\n \\nﺷود.\\n            ﻋﻠﯾرﺿﺎ  ﮐﺎظﻣﯽ                  وزﯾر  آﻣوزش  و  ﭘرورش     \\n6', metadata={'source': '/home/roshan/farhad/reg-base-dev/tarmim1.pdf', 'page': 5})]"
      ]
     },
     "execution_count": 11,
     "metadata": {},
     "output_type": "execute_result"
    }
   ],
   "source": [
    "from langchain.text_splitter import RecursiveCharacterTextSplitter\n",
    "\n",
    "text_splitter = RecursiveCharacterTextSplitter(chunk_size=1024, chunk_overlap=256)\n",
    "text_documents = text_splitter.split_documents(pages)[:5]\n",
    "\n",
    "pages"
   ]
  },
  {
   "cell_type": "code",
   "execution_count": 12,
   "metadata": {},
   "outputs": [
    {
     "name": "stderr",
     "output_type": "stream",
     "text": [
      "/home/roshan/.virtualenvs/llm/lib/python3.10/site-packages/pydantic/_migration.py:283: UserWarning: `pydantic.error_wrappers:ValidationError` has been moved to `pydantic:ValidationError`.\n",
      "  warnings.warn(f'`{import_path}` has been moved to `{new_location}`.')\n"
     ]
    }
   ],
   "source": [
    "from langchain_community.vectorstores import DocArrayInMemorySearch\n",
    "\n",
    "vectorstore = DocArrayInMemorySearch.from_documents(text_documents, embedding=embeddings)"
   ]
  },
  {
   "cell_type": "code",
   "execution_count": null,
   "metadata": {},
   "outputs": [
    {
     "data": {
      "text/plain": [
       "[Document(page_content='ﺑﺎﺳﻣﮫ ﺗﻌﺎﻟﯽ    اﺻﻼح ﻧﺎﻣﮫ ﺷﯾوه اﺟراﯾﯽ  ﻧﺣوه  اﯾﺟﺎد  و  ﺗرﻣﯾم  ﺳﺎﺑﻘﮫ  ﺗﺣﺻﯾﻠﯽ  ھﺎی آزﻣون  ﻧﮭﺎﯾﯽ  دوره  دوم  ﻣﺗوﺳطﮫ  ﻣﺻوب  \\nﭘﻧﺟﺎه وھﻔﺗﻣﯾن)\\n57\\n(\\n \\nﺟﻠﺳﮫ\\n \\nﮐﻣﯾﺳﯾون\\n \\nﻣﻌﯾن\\n \\nﺷورای ﻋﺎﻟﯽ\\n \\nآﻣوزش\\n \\nو\\n \\nﭘرورش\\n \\nﺗﺎرﯾﺦ\\n \\n27/9/1402\\n  ﺑﮫ اﺳﺗﻧﺎد  ﻣﺻوﺑﮫ  ﺟﻠﺳﮫ  1053  ﺗﺎرﯾﺦ  04/12/1403  ﻣوﺿوع  ﻋﻧﺎوﯾن  دروس  آزﻣون  ﻧﮭﺎﯾﯽ  دوره  دوم  \\nﻣﺗوﺳطﮫ\\n \\nو\\n \\nﭼﮕوﻧﮕﯽ\\n \\nﺗرﻣﯾم\\n \\nﺳﺎﺑﻘﮫ\\n \\nﺗﺣﺻﯾﻠﯽ\\n \\nﺳواﺑق\\n \\nﺗﺣﺻﯾﻠﯽ،\\n \\nﺷﯾوه ﻧﺎﻣﮫ\\n \\nاﺟراﯾﯽ\\n \\nﻧﺣوه\\n \\nاﯾﺟﺎد\\n \\nﺳﺎﺑﻘﮫ\\n \\nﺗﺣﺻﯾﻠﯽ\\n \\nو\\n \\nﺗرﻣﯾم\\n \\nﺳﺎﺑﻘﮫ\\n \\nﺗﺣﺻﯾﻠﯽ\\n \\nآزﻣون ھﺎی\\n \\nﻧﮭﺎﯾﯽ\\n \\nدوره\\n \\nدوم\\n \\nﻣﺗوﺳطﮫ)اﺻﻼﺣﯾﮫ\\n \\nﺷﯾوه ﻧﺎﻣﮫ\\n \\nﻣﺻوب\\n \\nﭘﻧﺟﺎه\\n \\nو\\n \\nھﻔﺗﻣﯾن\\n \\nﺟﻠﺳﮫ\\n \\nﮐﻣﯾﺳﯾون\\n \\nﻣﻌﯾن\\n \\nﺷورای\\n \\nﻋﺎﻟﯽ\\n \\nآﻣوزش\\n \\nو\\n \\nﭘرورش\\n \\nﺗﺎرﯾﺦ\\n \\n27/09/1402\\n(و\\n \\nﻣﺻوﺑﮫ\\n \\nﺟﻠﺳﮫ\\n \\n915\\n \\nﺷورای\\n \\nﻋﺎﻟﯽ\\n \\nاﻧﻘﻼب\\n \\nﻓرھﻧﮕﯽ\\n \\nﺗﺎرﯾﺦ.......\\n \\nﺑﮫ\\n \\nﺷرح\\n \\nزﯾر\\n \\nﺑﮫ\\n \\nﺗﺻوﯾب\\n \\nرﺳﯾد.\\n ﺗﻌﺎرﯾف(اﻟف ﺳﺎﺑﻘﮫ ﺗﺣﺻﯾﻠﯽ:  ﻣطﺎﺑق  ﻣﺎده١  ﻣﺻوﺑﮫ  ﺟﻠﺳﮫ  ٣۴٨  ﺗﺎرﯾﺦ  15/04/1400  ﺷورای  ﻋﺎﻟﯽ  اﻧﻘﻼب  ﻓرھﻧﮕﯽ،  \\nﺳﺎﺑﻘﮫ\\n \\nﺗﺣﺻﯾﻠﯽ\\n \\nﻋﺑﺎرت\\n \\nاﺳت\\n \\nاز؛\\n \\nﻧﻣرات\\n \\nدروس\\n \\nﻋﻣوﻣﯽ\\n \\nو\\n \\nﺗﺧﺻﺻﯽ\\n \\nدوره\\n \\nدوم\\n \\nﻣﺗوﺳطﮫ\\n \\nدر\\n \\nﻧظﺎم\\n \\nآﻣوزﺷﯽ\\n \\n3\\n-\\n3\\n-\\n3\\n-\\n3\\n \\nو\\n \\nدﯾﭘﻠم\\n \\nو\\n \\nﭘﯾش داﻧﺷﮕﺎھﯽ\\n \\nدر\\n \\nﻧظﺎم', metadata={'source': '/home/roshan/farhad/reg-base-dev/tarmim1.pdf', 'page': 0}),\n",
       " Document(page_content='اﺻﻠﯽ و  ﯾﺎ  ﯾﮏ  ﮔروه  آزﻣﺎﯾﺷﯽ  ﻏﯾراﺻﻠﯽ  ﺑر  اﺳﺎس  ﺟداول  ﻋﻧﺎوﯾن  و  ﺿراﯾب  دروس  ﺳواﺑق  ﺗﺣﺻﯾﻠﯽ\\n1 \\n و  \\nﺑﺎ\\n \\nرﻋﺎﯾت\\n \\nﻣوارد\\n \\nزﯾر\\n \\nاﯾﺟﺎد\\n \\nﺳﺎﺑﻘﮫ\\n \\nﻧﻣﺎﯾﻧد:\\n 1-داﻧش آﻣوزان ﭘﺎﯾﮫ  دوازدھم  در  ﺻورت  اﻧﺗﺧﺎب  ﮔروه  آزﻣﺎﯾﺷﯽ  ﻏﯾر  ﻣﺗﻧﺎظر  ﺑﺎ  رﺷﺗﮫ  ﺗﺣﺻﯾﻠﯽ  ﺧود،  \\nﻣﯽ ﺗواﻧﻧد\\n \\nدر\\n \\nدروس\\n \\nﻧﮭﺎﯾﯽ\\n \\nﭘﺎﯾﮫ ھﺎی\\n \\nﯾﺎزدھم\\n \\nو\\n \\nدوازدھم\\n \\nآن\\n \\nﮔروه\\n \\nآزﻣﺎﯾﺷﯽ\\n \\nاﯾﺟﺎد\\n \\nﺳﺎﺑﻘﮫ\\n \\nﮐﻧﻧد.\\n 2- در  ﺻورت  ﺗداﺧل  زﻣﺎﻧﯽ  آزﻣون  درس  اﻧﺗﺧﺎﺑﯽ  ﺑرای  اﯾﺟﺎد  ﺳﺎﺑﻘﮫ  ﺗﺣﺻﯾﻠﯽ  ﺑﺎ  آزﻣون  درس  رﺷﺗﮫ  \\nﺗﺣﺻﯾﻠﯽ،\\n \\nﻣﺗﻘﺎﺿﯽ\\n \\nﺑﺎﯾد\\n \\nدر\\n \\nآزﻣون\\n \\nدرس\\n \\nاﻧﺗﺧﺎﺑﯽ\\n \\nدر\\n \\nﺧردادﻣﺎه\\n \\nو\\n \\nآزﻣون\\n \\nدرس\\n \\nرﺷﺗﮫ\\n \\nﺗﺣﺻﯾﻠﯽ\\n \\nﺧود\\n \\nدر\\n \\nﺷﮭرﯾورﻣﺎه\\n \\nﺷرﮐت\\n \\nﻧﻣﺎﯾد)وﺿﻌﯾت\\n \\nاﯾن\\n \\nدرس\\n \\nدر\\n \\nﺧردادﻣﺎه،\\n \\nﺑﮫ ﻋﻧوان\\n \\nﻏﯾﺑت\\n \\nﻣوﺟﮫ\\n \\nﺛﺑت\\n \\nﻣﯽ ﺷود(.\\n 3- داﻧش آﻣوزان  ﻣدارس  ﺑزرﮔﺳﺎﻻن،  آﻣوزش  از  راه  دور،  اﯾﺛﺎرﮔران  و  داوطﻠب  آزاد  ﮐﮫ  در  آزﻣون  دروس  \\nﻧﮭﺎﯾﯽ\\n \\nﻧوﺑت\\n \\nدی\\n \\nو\\n \\nﺷﮭرﯾورﻣﺎه)ﻧﺎظر\\n \\nﺑﮫ\\n \\nﺑﻧد\\n \\n1\\n \\nﻗﺳﻣت\\n \\nت(\\n \\nﺷرﮐت\\n \\nﻧﻣوده اﻧد،\\n \\nﺑﮫ\\n \\nﺷرط\\n \\nﮐﺳب\\n \\nﺣد\\n \\nﻧﺻﺎب\\n \\nﻗﺑوﻟﯽ\\n \\nدر\\n \\nﻧوﺑت ھﺎی\\n \\nﻣذﮐور،\\n \\nﺑﺎﯾد\\n \\nدر\\n \\nﺧردادﻣﺎه،\\n \\nﺻرﻓﺎً\\n \\nدر\\n \\nآزﻣون\\n \\nاﯾﺟﺎد\\n \\nﺳﺎﺑﻘﮫ\\n \\nآن\\n \\nدروس\\n \\nﺷرﮐت', metadata={'source': '/home/roshan/farhad/reg-base-dev/tarmim1.pdf', 'page': 1}),\n",
       " Document(page_content='ﺳﺎﺑﻘﮫ\\n \\nﺗﺣﺻﯾﻠﯽ\\n \\nﻋﺑﺎرت\\n \\nاﺳت\\n \\nاز؛\\n \\nﻧﻣرات\\n \\nدروس\\n \\nﻋﻣوﻣﯽ\\n \\nو\\n \\nﺗﺧﺻﺻﯽ\\n \\nدوره\\n \\nدوم\\n \\nﻣﺗوﺳطﮫ\\n \\nدر\\n \\nﻧظﺎم\\n \\nآﻣوزﺷﯽ\\n \\n3\\n-\\n3\\n-\\n3\\n-\\n3\\n \\nو\\n \\nدﯾﭘﻠم\\n \\nو\\n \\nﭘﯾش داﻧﺷﮕﺎھﯽ\\n \\nدر\\n \\nﻧظﺎم\\n \\nآﻣوزﺷﯽ\\n \\nﻗﺑﻠﯽ\\n \\nھر\\n \\nرﺷﺗﮫ\\n \\nﺗﺣﺻﯾﻠﯽ\\n \\nدوره\\n \\nﻣﺗوﺳطﮫ\\n \\nاﺳت\\n \\nﮐﮫ\\n \\nاﻣﺗﺣﺎﻧﺎت)آزﻣون ھﺎی(\\n \\nآن\\n \\nﻣطﺎﺑق\\n \\nاﺻول\\n \\nﺳﻧﺟش\\n \\nو\\n \\nاﻧدازه ﮔﯾری،\\n \\nﺑﮫ\\n \\nطور\\n \\nاﺳﺗﺎﻧدارد\\n \\nو\\n \\nﮐﯾﻔﯽ\\n \\nﺗوﺳط\\n \\nوزارت\\n \\nآﻣوزش\\n \\nو\\n \\nﭘرورش\\n \\nﺑﮫ\\n \\nﺻورت\\n \\nﺳراﺳری\\n \\nو\\n \\nﻧﮭﺎﯾﯽ)ﮐﺗﺑﯽ(\\n \\nدر\\n \\nﺳﻧوات\\n \\nﻣﺧﺗﻠف\\n \\nﻣطﺎﺑق\\n \\nﻣﺻوﺑﺎت\\n \\nﺷورای\\n \\nﻋﺎﻟﯽ\\n \\nآﻣوزش\\n \\nو\\n \\nﭘرورش\\n \\nﺑرﮔزار\\n \\nﺷده\\n \\nﺑﺎﺷد.\\n دوره :ﻣﺗوﺳطﮫ اﯾن  دوره  ﺷﺎﻣل  ﻧظﺎم ھﺎی  آﻣوزﺷﯽ  دوره  ﺷش ﺳﺎﻟﮫ  ﻣﺗوﺳطﮫ،  دوره  ﭼﮭﺎرﺳﺎﻟﮫ  ﻣﺗوﺳطﮫ،  \\nدوره\\n \\nﻣﺗوﺳطﮫ\\n \\nﺳﮫ ﺳﺎﻟﮫ\\n \\nﻧﯾم ﺳﺎﻟﯽ\\n \\nواﺣدی/\\n \\nﺳﺎﻟﯽ واﺣدی،\\n \\nدوره\\n \\nﭘﯾش داﻧﺷﮕﺎھﯽ\\n \\nﻧﯾم ﺳﺎﻟﯽ\\n \\nواﺣدی/\\n \\nﺳﺎﻟﯽ\\n \\nواﺣدی\\n \\nو\\n \\nدوره\\n \\nدوم\\n \\nﻣﺗوﺳطﮫ\\n \\nﻧظﺎم\\n \\n3\\n-\\n3\\n-\\n3\\n-\\n3\\n \\nﻣﯽ ﺑﺎﺷد\\n اﯾﺟﺎد ﺳﺎﺑﻘﮫ :ﺗﺣﺻﯾﻠﯽ  ﺷرﮐت  اﻓراد  واﺟد  ﺷراﯾط  و  ﻓﺎﻗد  ﺳﺎﺑﻘﮫ  ﺗﺣﺻﯾﻠﯽ  در  آزﻣون ھﺎی ﻧﮭﺎﯾﯽ ﻧوﺑت  \\nﺧردادﻣﺎه.\\n ﺗرﻣﯾم ﺳﺎﺑﻘﮫ :ﺗﺣﺻﯾﻠﯽ  ﺷرﮐت  ﻣﺟدد  اﻓراد  واﺟد  ﺷراﯾط  و  دارای  ﺳﺎﺑﻘﮫ  ﺗﺣﺻﯾﻠﯽ  در  ﻣﺟﻣوﻋﮫ   آزﻣون  \\nدروس\\n \\nﻧﮭﺎﯾﯽ)دارای\\n \\nﺳﺎﺑﻘﮫ(', metadata={'source': '/home/roshan/farhad/reg-base-dev/tarmim1.pdf', 'page': 0}),\n",
       " Document(page_content='3\\n-\\n3\\n \\nﻣﯽ ﺑﺎﺷد\\n اﯾﺟﺎد ﺳﺎﺑﻘﮫ :ﺗﺣﺻﯾﻠﯽ  ﺷرﮐت  اﻓراد  واﺟد  ﺷراﯾط  و  ﻓﺎﻗد  ﺳﺎﺑﻘﮫ  ﺗﺣﺻﯾﻠﯽ  در  آزﻣون ھﺎی ﻧﮭﺎﯾﯽ ﻧوﺑت  \\nﺧردادﻣﺎه.\\n ﺗرﻣﯾم ﺳﺎﺑﻘﮫ :ﺗﺣﺻﯾﻠﯽ  ﺷرﮐت  ﻣﺟدد  اﻓراد  واﺟد  ﺷراﯾط  و  دارای  ﺳﺎﺑﻘﮫ  ﺗﺣﺻﯾﻠﯽ  در  ﻣﺟﻣوﻋﮫ   آزﻣون  \\nدروس\\n \\nﻧﮭﺎﯾﯽ)دارای\\n \\nﺳﺎﺑﻘﮫ(\\n \\nﯾﮏ ﭘﺎﯾﮫ.\\n دروس ﻣؤﺛر:  دروس  ﻧﮭﺎﯾﯽ  ﮐﮫ  ﺑر  اﺳﺎس  ﻧﺗﺎﯾﺞ  آﻧﮭﺎ  ﻧﻣره  ﮐل  ﺳﺎﺑﻘﮫ  ﺗﺣﺻﯾﻠﯽ  ﻣﺣﺎﺳﺑﮫ  ﻣﯽ ﺷود.  ﻧﻣره ﮐل ﺳﺎﺑﻘﮫ  :ﺗﺣﺻﯾﻠﯽ  ﺑراﺳﺎس  ﺑﻧد  2 - 2  ﻣﺻوﺑﮫ  ﺟﻠﺳﮫ  843  ﻣورخ  15/04/1400  ﺷورای  ﻋﺎﻟﯽ  \\nاﻧﻘﻼب\\n \\nﻓرھﻧﮕﯽ\\n \\nﻧﻣره\\n \\nﮐل\\n \\nﺳﺎﺑﻘﮫ\\n \\nﺗﺣﺻﯾﻠﯽ\\n \\nﻋﺑﺎرت\\n \\nاﺳت\\n \\nاز\\n \\nﻣﯾﺎﻧﮕﯾن\\n \\nﻧﻣره\\n \\nوزﻧﯽ\\n \\nﻧﻣرات\\n \\nﺗراز\\n \\nﺷده\\n \\nدروس\\n \\nﻋﻣوﻣﯽ\\n \\nو\\n \\nﺗﺧﺻﺻﯽ.\\n ھﺎی ﮔروه آزﻣﺎﯾﺷﯽ:  ﺗﻘﺳﯾم ﺑﻧدی  رﺷﺗﮫ ھﺎی  ﺗﺣﺻﯾﻠﯽ  آﻣوزش  ﻋﺎﻟﯽ  ﮐﮫ  ﺷﺎﻣل  ﭘﻧﺞ  ﮔروه:  ﻋﻠوم  رﯾﺎﺿﯽ  و  ﻓﻧﯽ،  \\nﻋﻠوم ﺗﺟرﺑﯽ\\n \\nو\\n \\nﻋﻠوم اﻧﺳﺎﻧﯽ)ﮔروه ھﺎی\\n \\nاﺻﻠﯽ(\\n \\nو\\n \\nزﺑﺎن ھﺎی\\n \\nﺧﺎرﺟﯽ\\n \\nو\\n \\nھﻧر)ﮔروه ھﺎی\\n \\nﻏﯾراﺻﻠﯽ(\\n \\nﻣﯽ ﺑﺎﺷﻧد.\\n (ب ﻣﺷﻣوﻻن اﯾﺟﺎد  ﺳﺎﺑﻘﮫ  :ﺗﺣﺻﯾﻠﯽ  داﻧش آﻣوزان ﺷﺎﺧﮫ  ﻧظری  ﺷﺎﻏل  ﺑﮫ  ﺗﺣﺻﯾل  در  ﭘﺎﯾﮫ ھﺎی  ﯾﺎزدھم  و  دوازدھم،  ﺑﺎ  ﺷرﮐت  در  آزﻣون ھﺎی  \\nﻧﮭﺎﯾﯽ\\n \\nﻧوﺑت\\n \\nﺧردادﻣﺎه،\\n \\nﺳﺎﺑﻘﮫ\\n \\nﺗﺣﺻﯾﻠﯽ\\n \\nﺑرای\\n \\nﮔروه\\n \\nآزﻣﺎﯾﺷﯽ\\n \\nﻣﺗﻧﺎظر\\n \\nﺑﺎ', metadata={'source': '/home/roshan/farhad/reg-base-dev/tarmim1.pdf', 'page': 0})]"
      ]
     },
     "execution_count": 13,
     "metadata": {},
     "output_type": "execute_result"
    }
   ],
   "source": [
    "query = \"نمونه سوال\"\n",
    "retriever = vectorstore.as_retriever()\n",
    "retriever.invoke(query)\n"
   ]
  },
  {
   "cell_type": "code",
   "execution_count": null,
   "metadata": {},
   "outputs": [],
   "source": [
    "retrieved_context = retriever.invoke(query)"
   ]
  },
  {
   "cell_type": "code",
   "execution_count": null,
   "metadata": {},
   "outputs": [
    {
     "name": "stdout",
     "output_type": "stream",
     "text": [
      "Question: نمرات پایه یازدهم چه تاثیری داره؟\n",
      "Answer: در صورت انتخاب گروه آزمایشی غیر متناظر با رتبه تحصیلی خود، دانش آموزان پایه یازدهم می توانند در آزمون های پایه یازدهم و دوازدهم شرکت کنند. \n",
      "\n",
      "\n",
      "Question: چجوری ترمیم ثبت نام کنم؟\n",
      "Answer: متاسفانه اطلاعاتی در مورد ترمیم ثبت نام در این متن وجود ندارد. \n",
      "\n",
      "\n",
      "Question: تو کی هستی؟\n",
      "Answer: من یک دستیار هوش مصنوعی هستم. \n",
      "\n",
      "\n"
     ]
    }
   ],
   "source": [
    "questions = [\n",
    "    query\n",
    "]\n",
    "\n",
    "for question in questions:\n",
    "    retrieved_context = retriever.invoke(question)\n",
    "    formatted_prompt = prompt.format(context=retrieved_context, question=question)\n",
    "    response_from_model = apply_chat_template_and_response(formatted_prompt)\n",
    "    parsed_response = parser.parse(response_from_model)\n",
    "\n",
    "    print(f\"Question: {question}\")\n",
    "    print(f\"Answer: {parsed_response}\")\n",
    "    print()"
   ]
  },
  {
   "cell_type": "code",
   "execution_count": null,
   "metadata": {},
   "outputs": [
    {
     "name": "stdout",
     "output_type": "stream",
     "text": [
      "Say 'exit' or 'quit' to exit the loop\n",
      "Question: سلام\n",
      "Answer: سلام \n",
      "\n",
      "\n",
      "Say 'exit' or 'quit' to exit the loop\n",
      "Question: تو کی هستی؟\n",
      "Answer: من یک دستیار هوش مصنوعی هستم. \n",
      "\n",
      "\n",
      "Say 'exit' or 'quit' to exit the loop\n",
      "Question: چه سوالاتی میتونم ارت بپرسم؟\n"
     ]
    }
   ],
   "source": [
    "while True:\n",
    "    print(\"Say 'exit' or 'quit' to exit the loop\")\n",
    "    question = input('User question: ')\n",
    "    print(f\"Question: {question}\")\n",
    "    if question.lower() in [\"exit\", \"quit\"]:\n",
    "        print(\"Exiting the conversation. Goodbye!\")\n",
    "        break\n",
    "    formatted_prompt = prompt.format(context=retrieved_context, question=question)\n",
    "    response_from_model = apply_chat_template_and_response(formatted_prompt)\n",
    "    parsed_response = parser.parse(response_from_model)\n",
    "    print(f\"Answer: {parsed_response}\")\n",
    "    print()"
   ]
  }
 ],
 "metadata": {
  "kernelspec": {
   "display_name": "llm",
   "language": "python",
   "name": "python3"
  },
  "language_info": {
   "codemirror_mode": {
    "name": "ipython",
    "version": 3
   },
   "file_extension": ".py",
   "mimetype": "text/x-python",
   "name": "python",
   "nbconvert_exporter": "python",
   "pygments_lexer": "ipython3",
   "version": "3.10.12"
  }
 },
 "nbformat": 4,
 "nbformat_minor": 2
}
